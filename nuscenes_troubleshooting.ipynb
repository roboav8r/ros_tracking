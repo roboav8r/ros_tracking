{
 "cells": [
  {
   "cell_type": "code",
   "execution_count": 4,
   "id": "e8eec0df",
   "metadata": {},
   "outputs": [],
   "source": [
    "import nuscenes.utils.splits as splits\n",
    "from nuscenes.nuscenes import NuScenes\n",
    "import json"
   ]
  },
  {
   "cell_type": "markdown",
   "id": "a9976012-5e8f-404c-b544-f35fb38d1e7d",
   "metadata": {},
   "source": [
    "# Analyze results"
   ]
  },
  {
   "cell_type": "code",
   "execution_count": 6,
   "id": "3d6ae8ae-3a9a-47e7-a6db-2e58ac54d34a",
   "metadata": {},
   "outputs": [
    {
     "name": "stdout",
     "output_type": "stream",
     "text": [
      "======\n",
      "Loading NuScenes tables for version v1.0-trainval...\n",
      "23 category,\n",
      "8 attribute,\n",
      "4 visibility,\n",
      "64386 instance,\n",
      "12 sensor,\n",
      "10200 calibrated_sensor,\n",
      "2631083 ego_pose,\n",
      "68 log,\n",
      "850 scene,\n",
      "34149 sample,\n",
      "2631083 sample_data,\n",
      "1166187 sample_annotation,\n",
      "4 map,\n",
      "Done loading in 32.283 seconds.\n",
      "======\n",
      "Reverse indexing ...\n",
      "Done reverse indexing in 6.7 seconds.\n",
      "======\n"
     ]
    }
   ],
   "source": [
    "nusc = NuScenes(version='v1.0-trainval', dataroot='/home/jd/nuScenes/data/', verbose=True)"
   ]
  },
  {
   "cell_type": "code",
   "execution_count": 25,
   "id": "f1a61175-5aef-41f1-837e-74d059d8458e",
   "metadata": {},
   "outputs": [],
   "source": [
    "results_dict = json.load(open('results/results.json','r'))\n",
    "\n",
    "debug_dict = dict()\n",
    "\n",
    "for sample in results_dict['results']:\n",
    "    # print(sample)\n",
    "    # # print(nusc.get('sample',sample)['scene_token'])\n",
    "    # print(nusc.get('scene',nusc.get('sample',sample)['scene_token'])['name'])\n",
    "    # print(len(results_dict['results'][sample]))\n",
    "    # print(results_dict['results'][sample][0])\n",
    "\n",
    "    if nusc.get('scene',nusc.get('sample',sample)['scene_token'])['name'] not in debug_dict.keys():\n",
    "        debug_dict[nusc.get('scene',nusc.get('sample',sample)['scene_token'])['name']] = []\n",
    "\n",
    "    debug_dict[nusc.get('scene',nusc.get('sample',sample)['scene_token'])['name']].append(sample)"
   ]
  },
  {
   "cell_type": "code",
   "execution_count": 36,
   "id": "2de7eaae-8594-4044-8855-a0b0a00d8f17",
   "metadata": {},
   "outputs": [],
   "source": [
    "# check 1 - all scenes in split correct\n",
    "import nuscenes.utils.splits as nuscenes_splits\n",
    "\n",
    "split = nuscenes_splits.val\n",
    "\n",
    "assert split ==list(debug_dict.keys())"
   ]
  },
  {
   "cell_type": "code",
   "execution_count": null,
   "id": "9700c619-7436-45f9-a441-bc367c74342d",
   "metadata": {},
   "outputs": [],
   "source": [
    "# check 2 - for each scene, samples in results must match samples in scene, lengths must match"
   ]
  },
  {
   "cell_type": "code",
   "execution_count": 21,
   "id": "27a46f1b-97c8-470a-9214-9f92e3f25621",
   "metadata": {},
   "outputs": [
    {
     "name": "stdout",
     "output_type": "stream",
     "text": [
      "{'token': 'f0ee73d43c2748fbb584d1a062e2773a', 'timestamp': 1542799761947815, 'prev': 'dd873a094c5b47649b79c3f9dc36dfb2', 'next': '', 'scene_token': '6498fce2f38645fc9bf9d4464b159230', 'data': {'RADAR_FRONT': '2b55f043c0b646d3b0d196d3e2a934b4', 'RADAR_FRONT_LEFT': 'e0928b6ffeef4e8490d4248ddb8145b2', 'RADAR_FRONT_RIGHT': '9b4ae1968c9e4b289e1ddb0c335ae41a', 'RADAR_BACK_LEFT': '0bca809762d14eff89c3397c4bec3777', 'RADAR_BACK_RIGHT': '39225e4dc5bc4db289a5a8c6fbcc3810', 'LIDAR_TOP': '597351ed877f4a75bdaeaef94d38c0e7', 'CAM_FRONT': '3167720019c5481d941e244cfca8a670', 'CAM_FRONT_RIGHT': '805c439708814930b9b1e5c38052dba3', 'CAM_BACK_RIGHT': 'd04bdafba8384bdcbe308c4402a80db4', 'CAM_BACK': '925ff404e45247d7b0491a1e98627239', 'CAM_BACK_LEFT': '3e75d258696944c7b59b82d9dc0f2432', 'CAM_FRONT_LEFT': '5e89b7bf2f8f4de3b53d5e7a90280a0b'}, 'anns': ['a4508b5baa9d4c489abb44b22e2179d3', '37d1ffd59c754a05bfe79a83e307f46c', '7e977a6e629441a5ba68b44da16605d7', '4215f0173a5648a2bfc1f58a01fa9e93', '1fe65860ca6e4a8bab93856cc358eaf7', '1ad1e1000f294b4682a1c91274d0989d', 'eecb6c20328e410abe944e097668903c', 'd04d100eb25f4db8ba59ea1a26e53d2b', 'acd92b482f9e4fa6a42e9667eacb7540', '374e205403cc4564995b8b47125bc6a5', 'de1556bee14a452893a2596bcfcf36ec', 'ef27b8e9e34645c88e8a4b3c049d364c', '7e69d05e106d4a59a9d800b4ad21a8cf', 'a9c788d51258441582ca7fbc32b977bf', '0f38bace5e8f4b71a41fcb63310cb469', '2c5378ed98d048b9a54649054b406553', 'c1021133c2ba47d8ab29154a239e062a', '495bb5ba28a8446b8d3f7b4667045815']}\n"
     ]
    },
    {
     "data": {
      "text/plain": [
       "'6498fce2f38645fc9bf9d4464b159230'"
      ]
     },
     "execution_count": 21,
     "metadata": {},
     "output_type": "execute_result"
    }
   ],
   "source": [
    "print(nusc.get('sample',sample))\n",
    "nusc.get('sample',sample)['scene_token']"
   ]
  },
  {
   "cell_type": "markdown",
   "id": "32ae2245",
   "metadata": {},
   "source": [
    "# Troubleshooting the sample mismatch"
   ]
  },
  {
   "cell_type": "code",
   "execution_count": 5,
   "id": "c0488fea",
   "metadata": {},
   "outputs": [],
   "source": [
    "minival_samples = ['b6b0d9f2f2e14a3aaa2c8aedeb1edb69', '44237858a539457da65822bfcf58c414', '6ff9723a60bf4e14b328b3b19f04dc32', 'c1eed31234b94e9f8e22fbf3428b0ac2', '796b1988dd254f74bf2fb19ba9c5b8c6', 'cc57c1ea80fe46a7abddfdb15654c872', 'a19a80c905674faab7203a3a4e0f5246', 'ac8b4d49731d43289579f014cb7c97ef', '0d0700a2284e477db876c3ee1d864668', '8573a885a7cb41d185c05029eeb9a54e', 'e63b83b436a0479db7362338cdfab118', 'f40544fd4f5d42abbcfa948eeaf86850', '87e772078a494d42bd34cd16172808bc', 'f4f86af4da3b49e79497deda5c5f223a', 'f753d3f87e5b40af87ff2cbf7c8e7082', '07fad91090c746ccaa1b2bdb55329e20', 'e54b784a608644a2804fcf800c7499f7', '4cf5d6c3f6ab42aab23f67b5a9782d1a', '5b7cb170eee6468aa1fdbd3abcf63c5a', 'e174cb43655f49dab7ffa27b973670e3', 'a98fba72bde9433fb882032d18aedb2e', '858a1ece22cf45d9bc71e42336604b78', 'de7593d76648450e947ba0c203dee1b0', '1c9a906c40f6417bbe1cea06d6e55501', 'b5989651183643369174912bc5641d3b', '9cdbf5ff7f294549aea0a4307e5d104a', '0a0d6b8c2e884134a3b48df43d54c36a', 'fdc39b23ab4242eda6ec5e1e6574fe33', 'edba7d0cf1c64d2a9c8a5ebddab507a9', '372725a4b00e49c78d6d0b1c4a38b6e0', '3950bd41f74548429c0f7700ff3d8269', '7bebe3c9be714f02837f8617c56df122', '747aa46b9a4641fe90db05d97db2acea', '456ec36cb4a44ca78f36fbd90c0c34fa', '9ee4020153674b9e9943d395ff8cfdf3', '6832e717621341568c759151b5974512', '6402fd1ffaf041d0b9162bd92a7ba0a2', 'ae5004bf4ebb4db0a84cb3c27bd398d1', 'd8251bbc2105497ab8ec80827d4429aa', 'e6e877f31dd447199b56cae07f86daad', '3e8750f331d7499e9b5123e9eb70f2e2', '6d9984d09d52479e837da2fd09e192cc', '61a7bd24f88a46c2963280d8b13ac675', 'e00dc15130dc44e796687baadd076ae4', '4b894442c95141f9affd731d9da7b43c', 'cb4e6195faad467094fbd4d0a9e960e9', 'b9ea04a6121d4a8bb00199b885aa5ef0', '048a45dd2cf54aa5808d8ccc85731d44', 'b6c420c3a5bd4a219b1cb82ee5ea0aa7', '8092909473464f80b9f791a4d31ddcb8', '8e9c2cba0ee74056aa3746e8391d54a9', 'c567f9b8e9f34817acdc9c49d791c557', 'ce94ef7a0522468e81c0e2b3a2f1e12d', 'a1289b27ca1d41deb6fc982be9a3d03c', 'd0ecf474e0e64950aa265cd44b9c9d75', '61d9340c5ad8418dafe7a4af1b96e6b9', 'a771effa2a2648d78096c3e92b95b129', 'a5afebb0aa5e4d7c95665788ce51ec58', 'c59e60042a8643e899008da2e446acca', '9e7683e8586542a1b6032980c45f15ce', 'b1303058fa624645b753d7283d70de45', '38a28a3aaf2647f2a8c0e90e31267bf8', 'b22fa0b3c34f47b6a360b60f35d5d567', 'b4ff30109dd14c89b24789dc5713cf8c', '6bfd42cf0aba4f1a94ec11fa43e2dd92', '5b03af7a953245b5a3b23191ed4da62a', '7f594234e8034228b1a7d727f1981e09', '8cd36e9531fb4eba8e6ac1d666c4641c', '841dd6709e9b4d7c9d6bf888f1fe6d7e', '0af0feb5b1394b928dd13d648de898f5', 'c5f58c19249d4137ae063b0e9ecd8b8e', '281b92269fd648d4b52d06ac06ca6d65', '609d5177362340458a3bfd4949cd1e64', '06be0e3b665c44fa8d17d9f4770bdf9c', '8e352d4a6c6f40c8ad4f10a3d2c3f158', '9150678870764c1b87a649a25939c61b', '55c258972acb4300a3a6077a531ab050', '700c1a25559b4433be532de3475e58a9', 'fa65a298c01f44e7a182bbf9e5fe3697', '0bb62a68055249e381b039bf54b0ccf8', '9fcdc52b791045e99c623c5fc643331f']\n",
    "my_samples = ['49dfd2f2fef447cc9b8dec3e17c1c919', '59b32981037042eda1fed3c1026fbaba', '44237858a539457da65822bfcf58c414', 'a84f43c4ef52461d940a6c7d0768b86f', '6ff9723a60bf4e14b328b3b19f04dc32', 'a5c0ec90615e42818962e4e002de0cef', '7ff999a1242e4573a81dd3a6f0c158a2', 'ba2491f55619445e9d2e472f39f3b01b', 'c1eed31234b94e9f8e22fbf3428b0ac2', 'd3c0bbf933594f7184e20d761b6416f4', '356d81f38dd9473ba590f39e266f54e5', 'cc57c1ea80fe46a7abddfdb15654c872', '965f6af5a92449348409029a5f048a38', 'a34fabc7aa674713b71f98ec541eb2d4', 'a5addc41b07842768a2183abdd01cff8', '8017a35b9b5e476289a89bd098a4a1d1', '9813c23a5f1448b09bb7910fea9baf20', '313a60afcab5481a94a4815e0d1a6496', '7df1288fed8a403b8e7a35112b392d7c', '8573a885a7cb41d185c05029eeb9a54e', 'e63b83b436a0479db7362338cdfab118', '2e024439286d469f8f743fe9266c0e56', '8580e9a249b64b59bead9d80c0e13e8b', '8687ba92abd3406aa797115b874ebeba', '7315022fc89147a6afc7f978601f8f38', '447c96d132e9494e8b03050e8dcae124', 'f753d3f87e5b40af87ff2cbf7c8e7082', '2ff86dc19c4644a1a88ce5ba848f56e5', '3a064c48e47b489a8b442b8081f877b6', '4cf5d6c3f6ab42aab23f67b5a9782d1a', '5b7cb170eee6468aa1fdbd3abcf63c5a', 'e174cb43655f49dab7ffa27b973670e3', '4f545737bf3347fbbc9af60b0be9a963', '858a1ece22cf45d9bc71e42336604b78', 'a7acb150914b40bdad9a2dc4e657cbf9', '82597244941b4e79aa3e1e9cc6386f8b', '27900b9c3cfb48ed8b49087098d4a15a', '4246e57f018745c9b2bc68feb3d71b58', '0a0d6b8c2e884134a3b48df43d54c36a', '32e2619879854a83953c08ec8557f3bb', '4ae9c033164e4e01a0392672686d095c', 'c78067571d104caba7c568a847d56971', '9a0a16d628ae41d1ab25c9cdfc66d6a1', 'f2d48fe35d5646659dc339e1d36886f9', 'fdc39b23ab4242eda6ec5e1e6574fe33', '4711bcd34644420da8bc77163431888e', '37535cd306954669a2b21578573b93e3', 'ac452a60e8b34a7080c938c904b23057', '372725a4b00e49c78d6d0b1c4a38b6e0', 'dd8d85a47000418e849e4cb2f2a3f45f', 'ff007cb7b78443e6887401d694f0d369', 'b2e2ffeabf91451cb31a79649bfd95df', '0373e9d8886648779c8a73304919ab5f', '7bebe3c9be714f02837f8617c56df122', '576f17c305324ed7bf460f0110617355', '92594549844e4f7da7a0e73e92945b2b', 'bf2938e43c6f487497cda76b51bfc406', '456ec36cb4a44ca78f36fbd90c0c34fa', '9ee4020153674b9e9943d395ff8cfdf3', '6402fd1ffaf041d0b9162bd92a7ba0a2', 'ae5004bf4ebb4db0a84cb3c27bd398d1', '6d9984d09d52479e837da2fd09e192cc', 'b8766f4291d5449d95bab459ca724ad8', 'af8c2d8187aa463eab3cccbd6abc1573', '9ecb1b79dbe140ca860efc4adebe854b', '61a7bd24f88a46c2963280d8b13ac675', '17a9388ec4b04e028b4d07af2cc3a45c', '3ffc4360d1084e6eae5067e87d79503f', 'bad8a002637046178fe0f8216e5bc355', 'e00dc15130dc44e796687baadd076ae4', '4d8ff5b287bb4e1ba6d0a0f79fc74457', '4b894442c95141f9affd731d9da7b43c', 'b6c420c3a5bd4a219b1cb82ee5ea0aa7', '8092909473464f80b9f791a4d31ddcb8', '21342b260f964064855aa8ad1e741a22', '3d22d2c87c5b483a914c7e8125326013', '3e7ed5cf0b4541e4a0e1b109dfea89cf', 'c567f9b8e9f34817acdc9c49d791c557', 'be1494c7762c43ca88010f366997a586', 'd0ecf474e0e64950aa265cd44b9c9d75', '61d9340c5ad8418dafe7a4af1b96e6b9', '269ccf1fe399403c914e1f649d2a8ca2', 'c59e60042a8643e899008da2e446acca', '9cc9718713c14974b5e3094e1c4eae1c', 'd7bea9a3552b40e29d42324108dff575', '31812a5e8d514b5f8d2fbc50fc007475', 'eef55c3b48f34d949959b45130ee293a', '9e7683e8586542a1b6032980c45f15ce', 'c18d3bcc9297454ba52112c079cb756e', 'b1303058fa624645b753d7283d70de45', '38a28a3aaf2647f2a8c0e90e31267bf8', '6bfd42cf0aba4f1a94ec11fa43e2dd92', '1dba6570f0774b5cb87de6694bb338c0', 'f5f955d2d7594fb4b18ef615b421c98e', 'c844bf5a9f2243ff8f4bf2c85fe218ff', '0cd661df01aa40c3bb3a773ba86f753a', '8cd36e9531fb4eba8e6ac1d666c4641c', '0af0feb5b1394b928dd13d648de898f5', '609d5177362340458a3bfd4949cd1e64', 'dde297c8e12f44c4bc2f2c80e49d2b5a', '8e352d4a6c6f40c8ad4f10a3d2c3f158', '9150678870764c1b87a649a25939c61b', '1fc26189c2524ef396e5ce6cc210c1cd', '55c258972acb4300a3a6077a531ab050', '98fa81992fb04e799c329eca220e7164', '378a3a3e9af346308ab9dff8ced46d9c', '6e004695af1549c398a52b5c95e22060', '252b65dd79ce4712af1b898b64ea3b98']"
   ]
  },
  {
   "cell_type": "code",
   "execution_count": 16,
   "id": "916ad992",
   "metadata": {},
   "outputs": [
    {
     "data": {
      "text/plain": [
       "False"
      ]
     },
     "execution_count": 16,
     "metadata": {},
     "output_type": "execute_result"
    }
   ],
   "source": [
    "minival_samples[0] in my_samples"
   ]
  },
  {
   "cell_type": "code",
   "execution_count": 6,
   "id": "032ab879",
   "metadata": {},
   "outputs": [
    {
     "name": "stdout",
     "output_type": "stream",
     "text": [
      "======\n",
      "Loading NuScenes tables for version v1.0-mini...\n",
      "23 category,\n",
      "8 attribute,\n",
      "4 visibility,\n",
      "911 instance,\n",
      "12 sensor,\n",
      "120 calibrated_sensor,\n",
      "31206 ego_pose,\n",
      "8 log,\n",
      "10 scene,\n",
      "404 sample,\n",
      "31206 sample_data,\n",
      "18538 sample_annotation,\n",
      "4 map,\n",
      "Done loading in 0.374 seconds.\n",
      "======\n",
      "Reverse indexing ...\n",
      "Done reverse indexing in 0.1 seconds.\n",
      "======\n"
     ]
    }
   ],
   "source": [
    "nusc = NuScenes(version='v1.0-mini', dataroot='/home/jd/nuScenes/data/', verbose=True)"
   ]
  },
  {
   "cell_type": "code",
   "execution_count": 7,
   "id": "6ba8b107",
   "metadata": {},
   "outputs": [
    {
     "name": "stdout",
     "output_type": "stream",
     "text": [
      "{'token': 'fcbccedd61424f1b85dcbf8f897f9754', 'log_token': '53cf9c55dd8644bea67b9f009fc1ee38', 'nbr_samples': 40, 'first_sample_token': '3e8750f331d7499e9b5123e9eb70f2e2', 'last_sample_token': '281b92269fd648d4b52d06ac06ca6d65', 'name': 'scene-0103', 'description': 'Many peds right, wait for turning car, long bike rack left, cyclist'}\n",
      "{'token': 'fcbccedd61424f1b85dcbf8f897f9754', 'log_token': '53cf9c55dd8644bea67b9f009fc1ee38', 'nbr_samples': 40, 'first_sample_token': '3e8750f331d7499e9b5123e9eb70f2e2', 'last_sample_token': '281b92269fd648d4b52d06ac06ca6d65', 'name': 'scene-0103', 'description': 'Many peds right, wait for turning car, long bike rack left, cyclist'}\n"
     ]
    }
   ],
   "source": [
    "\n",
    "minival_first_sample = nusc.get('sample', 'b6b0d9f2f2e14a3aaa2c8aedeb1edb69')\n",
    "minival_first_scene = nusc.get('scene', minival_first_sample['scene_token'])\n",
    "print(minival_first_scene)\n",
    "\n",
    "minival_last_sample = nusc.get('sample', '9fcdc52b791045e99c623c5fc643331f')\n",
    "minival_last_scene = nusc.get('scene', minival_last_sample['scene_token'])\n",
    "print(minival_last_scene)\n"
   ]
  },
  {
   "cell_type": "code",
   "execution_count": 8,
   "id": "66ec6b6a",
   "metadata": {},
   "outputs": [
    {
     "name": "stdout",
     "output_type": "stream",
     "text": [
      "scene-0103\n",
      "scene-0916\n",
      "scene-0916\n",
      "scene-0916\n",
      "scene-0103\n",
      "scene-0103\n",
      "scene-0916\n",
      "scene-0916\n",
      "scene-0103\n",
      "scene-0916\n",
      "scene-0916\n",
      "scene-0103\n",
      "scene-0103\n",
      "scene-0103\n",
      "scene-0103\n",
      "scene-0916\n",
      "scene-0916\n",
      "scene-0103\n",
      "scene-0916\n",
      "scene-0916\n",
      "scene-0103\n",
      "scene-0916\n",
      "scene-0103\n",
      "scene-0103\n",
      "scene-0916\n",
      "scene-0916\n",
      "scene-0103\n",
      "scene-0103\n",
      "scene-0916\n",
      "scene-0916\n",
      "scene-0103\n",
      "scene-0916\n",
      "scene-0103\n",
      "scene-0103\n",
      "scene-0103\n",
      "scene-0103\n",
      "scene-0103\n",
      "scene-0916\n",
      "scene-0916\n",
      "scene-0916\n",
      "scene-0103\n",
      "scene-0103\n",
      "scene-0916\n",
      "scene-0916\n",
      "scene-0916\n",
      "scene-0916\n",
      "scene-0103\n",
      "scene-0916\n",
      "scene-0916\n",
      "scene-0916\n",
      "scene-0103\n",
      "scene-0916\n",
      "scene-0103\n",
      "scene-0916\n",
      "scene-0103\n",
      "scene-0103\n",
      "scene-0103\n",
      "scene-0916\n",
      "scene-0103\n",
      "scene-0103\n",
      "scene-0916\n",
      "scene-0103\n",
      "scene-0103\n",
      "scene-0916\n",
      "scene-0103\n",
      "scene-0103\n",
      "scene-0916\n",
      "scene-0916\n",
      "scene-0916\n",
      "scene-0103\n",
      "scene-0103\n",
      "scene-0103\n",
      "scene-0916\n",
      "scene-0916\n",
      "scene-0916\n",
      "scene-0916\n",
      "scene-0916\n",
      "scene-0103\n",
      "scene-0103\n",
      "scene-0916\n",
      "scene-0103\n"
     ]
    }
   ],
   "source": [
    "for token in minival_samples:\n",
    "    sample = nusc.get('sample', token)\n",
    "    scene = nusc.get('scene', sample['scene_token'])\n",
    "    print(scene['name'])"
   ]
  },
  {
   "cell_type": "code",
   "execution_count": 10,
   "id": "74f56d7f",
   "metadata": {},
   "outputs": [
    {
     "name": "stdout",
     "output_type": "stream",
     "text": [
      "scene-1094\n",
      "40\n",
      "scene-0796\n",
      "40\n",
      "scene-0916\n",
      "41\n",
      "scene-1094\n",
      "40\n",
      "scene-0916\n",
      "41\n",
      "scene-1094\n",
      "40\n",
      "scene-0655\n",
      "41\n",
      "scene-0655\n",
      "41\n",
      "scene-0916\n",
      "41\n",
      "scene-0553\n",
      "41\n",
      "scene-0061\n",
      "39\n",
      "scene-0103\n",
      "40\n",
      "scene-0061\n",
      "39\n",
      "scene-0061\n",
      "39\n",
      "scene-0757\n",
      "41\n",
      "scene-0655\n",
      "41\n",
      "scene-0061\n",
      "39\n",
      "scene-0553\n",
      "41\n",
      "scene-0796\n",
      "40\n",
      "scene-0916\n",
      "41\n",
      "scene-0916\n",
      "41\n",
      "scene-0655\n",
      "41\n",
      "scene-0655\n",
      "41\n",
      "scene-0553\n",
      "41\n",
      "scene-0553\n",
      "41\n",
      "scene-0655\n",
      "41\n",
      "scene-0103\n",
      "40\n",
      "scene-0061\n",
      "39\n",
      "scene-0553\n",
      "41\n",
      "scene-0103\n",
      "40\n",
      "scene-0916\n",
      "41\n",
      "scene-0916\n",
      "41\n",
      "scene-0061\n",
      "39\n",
      "scene-0916\n",
      "41\n",
      "scene-0061\n",
      "39\n",
      "scene-0553\n",
      "41\n",
      "scene-0553\n",
      "41\n",
      "scene-0061\n",
      "39\n",
      "scene-0103\n",
      "40\n",
      "scene-0553\n",
      "41\n",
      "scene-0553\n",
      "41\n",
      "scene-0061\n",
      "39\n",
      "scene-0655\n",
      "41\n",
      "scene-1077\n",
      "41\n",
      "scene-0103\n",
      "40\n",
      "scene-0061\n",
      "39\n",
      "scene-0553\n",
      "41\n",
      "scene-0553\n",
      "41\n",
      "scene-0916\n",
      "41\n",
      "scene-0757\n",
      "41\n",
      "scene-0655\n",
      "41\n",
      "scene-0655\n",
      "41\n",
      "scene-0757\n",
      "41\n",
      "scene-0916\n",
      "41\n",
      "scene-0655\n",
      "41\n",
      "scene-1077\n",
      "41\n",
      "scene-0061\n",
      "39\n",
      "scene-0103\n",
      "40\n",
      "scene-0103\n",
      "40\n",
      "scene-0103\n",
      "40\n",
      "scene-0916\n",
      "41\n",
      "scene-0103\n",
      "40\n",
      "scene-0553\n",
      "41\n",
      "scene-0757\n",
      "41\n",
      "scene-0757\n",
      "41\n",
      "scene-0916\n",
      "41\n",
      "scene-1077\n",
      "41\n",
      "scene-0553\n",
      "41\n",
      "scene-0757\n",
      "41\n",
      "scene-0916\n",
      "41\n",
      "scene-0757\n",
      "41\n",
      "scene-0916\n",
      "41\n",
      "scene-0916\n",
      "41\n",
      "scene-0916\n",
      "41\n",
      "scene-0655\n",
      "41\n",
      "scene-0757\n",
      "41\n",
      "scene-0796\n",
      "40\n",
      "scene-0916\n",
      "41\n",
      "scene-0796\n",
      "40\n",
      "scene-0103\n",
      "40\n",
      "scene-0103\n",
      "40\n",
      "scene-0796\n",
      "40\n",
      "scene-0103\n",
      "40\n",
      "scene-1094\n",
      "40\n",
      "scene-0553\n",
      "41\n",
      "scene-0553\n",
      "41\n",
      "scene-0061\n",
      "39\n",
      "scene-0103\n",
      "40\n",
      "scene-1094\n",
      "40\n",
      "scene-0916\n",
      "41\n",
      "scene-0103\n",
      "40\n",
      "scene-0103\n",
      "40\n",
      "scene-0796\n",
      "40\n",
      "scene-1094\n",
      "40\n",
      "scene-0061\n",
      "39\n",
      "scene-0061\n",
      "39\n",
      "scene-0916\n",
      "41\n",
      "scene-0103\n",
      "40\n",
      "scene-0916\n",
      "41\n",
      "scene-0553\n",
      "41\n",
      "scene-0916\n",
      "41\n",
      "scene-0916\n",
      "41\n",
      "scene-1077\n",
      "41\n",
      "scene-0916\n",
      "41\n",
      "scene-1094\n",
      "40\n",
      "scene-0061\n",
      "39\n",
      "scene-0655\n",
      "41\n",
      "scene-0655\n",
      "41\n"
     ]
    }
   ],
   "source": [
    "scene_counts = dict()\n",
    "for token in my_samples:\n",
    "    sample = nusc.get('sample', token)\n",
    "    scene = nusc.get('scene', sample['scene_token'])\n",
    "    print(scene['name'])\n",
    "    print(scene['nbr_samples'])\n",
    "    if scene['name'] not in scene_counts.keys():\n",
    "        scene_counts[scene['name']] = 0\n",
    "        \n",
    "    scene_counts[scene['name']] +=1"
   ]
  },
  {
   "cell_type": "code",
   "execution_count": 11,
   "id": "5f88c34e",
   "metadata": {},
   "outputs": [
    {
     "data": {
      "text/plain": [
       "{'scene-1094': 7,\n",
       " 'scene-0796': 6,\n",
       " 'scene-0916': 23,\n",
       " 'scene-0655': 13,\n",
       " 'scene-0553': 16,\n",
       " 'scene-0061': 15,\n",
       " 'scene-0103': 16,\n",
       " 'scene-0757': 8,\n",
       " 'scene-1077': 4}"
      ]
     },
     "execution_count": 11,
     "metadata": {},
     "output_type": "execute_result"
    }
   ],
   "source": [
    "scene_counts"
   ]
  },
  {
   "cell_type": "code",
   "execution_count": null,
   "id": "e68ccfef",
   "metadata": {},
   "outputs": [],
   "source": []
  }
 ],
 "metadata": {
  "kernelspec": {
   "display_name": "Python 3 (ipykernel)",
   "language": "python",
   "name": "python3"
  },
  "language_info": {
   "codemirror_mode": {
    "name": "ipython",
    "version": 3
   },
   "file_extension": ".py",
   "mimetype": "text/x-python",
   "name": "python",
   "nbconvert_exporter": "python",
   "pygments_lexer": "ipython3",
   "version": "3.9.18"
  }
 },
 "nbformat": 4,
 "nbformat_minor": 5
}
