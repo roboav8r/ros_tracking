{
 "cells": [
  {
   "cell_type": "markdown",
   "id": "2c6c4e1f-1a3a-4aa6-b6d1-8f43808151a0",
   "metadata": {},
   "source": [
    "# Imports"
   ]
  },
  {
   "cell_type": "code",
   "execution_count": 1,
   "id": "097702a3",
   "metadata": {},
   "outputs": [],
   "source": [
    "import os\n",
    "import time \n",
    "import json\n",
    "\n",
    "import gtsam\n",
    "\n",
    "import pandas as pd\n",
    "import numpy as np\n",
    "from scipy.optimize import linear_sum_assignment\n",
    "from scipy.spatial import distance\n",
    "import matplotlib.pyplot as plt\n",
    "\n",
    "from nuscenes.can_bus.can_bus_api import NuScenesCanBus\n",
    "from nuscenes.eval.common.utils import quaternion_yaw\n",
    "from nuscenes.map_expansion.map_api import NuScenesMap\n",
    "from nuscenes.nuscenes import NuScenes\n",
    "import nuscenes.utils.splits as nuscenes_splits\n",
    "\n",
    "import rosbag2_py\n",
    "from rosidl_runtime_py.utilities import get_message\n",
    "from rclpy.serialization import deserialize_message"
   ]
  },
  {
   "cell_type": "code",
   "execution_count": 2,
   "id": "24f25c17",
   "metadata": {},
   "outputs": [],
   "source": [
    "# Declare parameters\n",
    "nuscenes_dir = '/home/jd/nuScenes/data'\n",
    "mcap_dir = '/home/jd/nuScenes/data/mcap'\n",
    "results_dir = '/home/jd/tracking_ws/src/ros_tracking/results'\n",
    "# dataset_name: 'v1.0-mini'\n",
    "split_name = 'mini_train'\n",
    "lidar_detector = 'megvii'\n",
    "ann_topic = '/annotations'\n",
    "det_topic = '/detections'\n",
    "\n",
    "# Weights?\n",
    "asgn_thresh = 10.0\n",
    "euc_thresh = 2.0\n",
    "\n",
    "# Initial spatial covariance\n",
    "# pos_sigma = np.array([1, 1, 1])\n",
    "# pos_cov = np.diag(pos_sigma**2)\n",
    "# pos_cov_inv = np.linalg.inv(pos_cov)\n",
    "# print(pos_cov)\n",
    "# print(pos_cov_inv)"
   ]
  },
  {
   "cell_type": "code",
   "execution_count": 3,
   "id": "afdbbcc2",
   "metadata": {},
   "outputs": [],
   "source": [
    "# Create ROS objects\n",
    "reader = rosbag2_py.SequentialReader()"
   ]
  },
  {
   "cell_type": "code",
   "execution_count": 4,
   "id": "d974bd61",
   "metadata": {},
   "outputs": [],
   "source": [
    "# Member variables\n",
    "lidar_det_string = \"-\" + lidar_detector if lidar_detector else \"\"\n",
    "match_cols = ['ann_px','ann_py','ann_pz','ann_yaw','ann_sx','ann_sy','ann_sz','ann_lbl',\n",
    "              'det_px','det_py','det_pz','det_yaw','det_sx','det_sy','det_sz','det_lbl','det_conf']\n",
    "\n",
    "unmatch_trk_cols = ['ann_px','ann_py','ann_pz','ann_sx','ann_sy','ann_sz','ann_lbl']\n",
    "unmatch_det_cols = ['det_px','det_py','det_pz','det_sx','det_sy','det_sz','det_lbl','det_conf']\n",
    "\n",
    "\n",
    "# Remap nuScenes class -> tracking class (See https://www.nuscenes.org/tracking/ classes)\n",
    "track_class_map = {\"animal\": \"void_ignore\",\n",
    "                      \"human.pedestrian.personal_mobility\": \"void_ignore\",\n",
    "                     \"human.pedestrian.stroller\": \"void_ignore\",\n",
    "                     \"human.pedestrian.wheelchair\": \"void_ignore\",\n",
    "                     \"movable_object.barrier\": \"void_ignore\",\n",
    "                     \"movable_object.debris\": \"void_ignore\",\n",
    "                     \"movable_object.pushable_pullable\": \"void_ignore\",\n",
    "                     \"movable_object.trafficcone\": \"void_ignore\",\n",
    "                     \"static_object.bicycle_rack\": \"void_ignore\",\n",
    "                     \"vehicle.emergency.ambulance\": \"void_ignore\",\n",
    "                     \"vehicle.emergency.police\": \"void_ignore\",\n",
    "                     \"vehicle.construction\": \"void_ignore\",\n",
    "                     \"vehicle.bicycle\": \"bicycle\",\n",
    "                     \"vehicle.bus.bendy\": \"bus\",\n",
    "                     \"vehicle.bus.rigid\": \"bus\",\n",
    "                     \"vehicle.car\": \"car\",\n",
    "                     \"vehicle.motorcycle\": \"motorcycle\",\n",
    "                     \"human.pedestrian.adult\": \"pedestrian\",\n",
    "                     \"human.pedestrian.child\": \"pedestrian\",\n",
    "                     \"human.pedestrian.construction_worker\": \"pedestrian\",\n",
    "                     \"human.pedestrian.police_officer\": \"pedestrian\",\n",
    "                     \"vehicle.trailer\": \"trailer\",\n",
    "                     \"vehicle.truck\": \"truck\"}\n",
    "\n",
    "det_class_map = {'barrier': 'void_ignore',\n",
    "              'bicycle': 'bicycle',\n",
    "              'bus': 'bus',\n",
    "              'car': 'car',\n",
    "              'construction_vehicle': 'void_ignore',\n",
    "              'motorcycle': 'motorcycle',\n",
    "              'pedestrian': 'pedestrian',\n",
    "              'traffic_cone': 'void_ignore',\n",
    "              'trailer': 'trailer',\n",
    "              'truck': 'truck'}"
   ]
  },
  {
   "cell_type": "markdown",
   "id": "ee6faca8",
   "metadata": {},
   "source": [
    "# Compute matches & save"
   ]
  },
  {
   "cell_type": "code",
   "execution_count": 5,
   "id": "3f7549ec",
   "metadata": {},
   "outputs": [
    {
     "name": "stdout",
     "output_type": "stream",
     "text": [
      "Processing scene scene-0061 (0 / 8)\n",
      "/home/jd/nuScenes/data/mcap/scene-0061-megvii/scene-0061-megvii_0.mcap \n",
      "\n",
      "Processing scene scene-0553 (1 / 8)\n",
      "/home/jd/nuScenes/data/mcap/scene-0553-megvii/scene-0553-megvii_0.mcap \n",
      "\n",
      "Processing scene scene-0655 (2 / 8)\n",
      "/home/jd/nuScenes/data/mcap/scene-0655-megvii/scene-0655-megvii_0.mcap \n",
      "\n",
      "Processing scene scene-0757 (3 / 8)\n",
      "/home/jd/nuScenes/data/mcap/scene-0757-megvii/scene-0757-megvii_0.mcap \n",
      "\n",
      "Processing scene scene-0796 (4 / 8)\n",
      "/home/jd/nuScenes/data/mcap/scene-0796-megvii/scene-0796-megvii_0.mcap \n",
      "\n",
      "Processing scene scene-1077 (5 / 8)\n",
      "/home/jd/nuScenes/data/mcap/scene-1077-megvii/scene-1077-megvii_0.mcap \n",
      "\n",
      "Processing scene scene-1094 (6 / 8)\n",
      "/home/jd/nuScenes/data/mcap/scene-1094-megvii/scene-1094-megvii_0.mcap \n",
      "\n",
      "Processing scene scene-1100 (7 / 8)\n",
      "/home/jd/nuScenes/data/mcap/scene-1100-megvii/scene-1100-megvii_0.mcap \n",
      "\n"
     ]
    }
   ],
   "source": [
    "# Dataframes\n",
    "raw_df = pd.DataFrame(columns=match_cols)\n",
    "match_df = pd.DataFrame(columns=match_cols)\n",
    "unmatched_det_df = pd.DataFrame(columns=unmatch_det_cols)\n",
    "unmatched_trk_df = pd.DataFrame(columns=unmatch_trk_cols)\n",
    "\n",
    "# COMPUTE MATCH\n",
    "\n",
    "# Main loop - iterate through splits and mcaps\n",
    "split = eval('nuscenes_splits.' + split_name)\n",
    "\n",
    "for kk, scene in enumerate(split): # for scene in split\n",
    "    print(\"Processing scene %s (%i / %i)\" % (scene, kk, len(split)))\n",
    "    print(\"%s/%s%s/%s%s_0.mcap \\n\" % (mcap_dir, scene, lidar_det_string, scene, lidar_det_string))\n",
    "\n",
    "    # Load bag\n",
    "    storage_options = rosbag2_py.StorageOptions(\n",
    "        uri=\"%s/%s%s/%s%s_0.mcap\" % (mcap_dir, scene, lidar_det_string, scene, lidar_det_string),\n",
    "        storage_id='mcap')\n",
    "    converter_options = rosbag2_py.ConverterOptions('', '')\n",
    "    reader.open(storage_options, converter_options)\n",
    "    \n",
    "    # Deal with type names\n",
    "    topic_types = reader.get_all_topics_and_types()\n",
    "\n",
    "    def typename(topic_name):\n",
    "        for topic_type in topic_types:\n",
    "            if topic_type.name == topic_name:\n",
    "                return topic_type.type\n",
    "        raise ValueError(f\"topic {topic_name} not in bag\")\n",
    " \n",
    "    got_ann = False\n",
    "    got_det = False\n",
    "    while reader.has_next():\n",
    "        \n",
    "        topic, data, timestamp = reader.read_next()\n",
    "\n",
    "        if topic==ann_topic:\n",
    "            # self.get_logger().info(\"Topic: %s\" % (topic))                  \n",
    "\n",
    "            ann_msg_type = get_message(typename(topic))\n",
    "            ann_msg = deserialize_message(data, ann_msg_type)\n",
    "            \n",
    "            got_ann = True\n",
    "        \n",
    "        if topic==det_topic:\n",
    "            # self.get_logger().info(\"Topic: %s\" % (topic))                  \n",
    "\n",
    "            det_msg_type = get_message(typename(topic))\n",
    "            det_msg = deserialize_message(data, det_msg_type)\n",
    "            \n",
    "            got_det = True\n",
    "            \n",
    "        if got_ann and got_det:\n",
    "           \n",
    "            # Compute cost matrix\n",
    "            n_dets = len(det_msg.entities)\n",
    "            n_anns = len(ann_msg.entities)\n",
    "            \n",
    "            cost_matrix = np.zeros((n_dets,n_anns))\n",
    "            for ii,det in enumerate(det_msg.entities):\n",
    "                for jj,trk in enumerate(ann_msg.entities):\n",
    "                    \n",
    "                    cost = np.linalg.norm([det.cubes[0].pose.position.x - trk.cubes[0].pose.position.x,\n",
    "                                           det.cubes[0].pose.position.y - trk.cubes[0].pose.position.y,\n",
    "                                           det.cubes[0].pose.position.z - trk.cubes[0].pose.position.z])\n",
    "                    \n",
    "                    # print(\"det label raw: %s, mapped: %s\" % (det.metadata[0].value, det_class_map[det.metadata[0].value]))\n",
    "                    # print(\"ann label raw: %s, mapped: %s\" % (trk.metadata[0].value, track_class_map[trk.metadata[0].value]))\n",
    "\n",
    "                    if det_class_map[det.metadata[0].value] != track_class_map[trk.metadata[0].value]:\n",
    "                        # print('class mismatch')\n",
    "                        cost += 20\n",
    "                    \n",
    "                    cost_matrix[ii,jj] = cost\n",
    "\n",
    "            \n",
    "            # Solve cost matrix\n",
    "            # TODO - can reuse assignment.py here\n",
    "            det_asgn_idx, trk_asgn_idx = linear_sum_assignment(cost_matrix)\n",
    "            det_asgn_idx, trk_asgn_idx = list(det_asgn_idx), list(trk_asgn_idx)\n",
    "            \n",
    "            # If cost above threshold, remove the match from assignment vector\n",
    "            assert(len(det_asgn_idx) == len(trk_asgn_idx))\n",
    "            ii = len(det_asgn_idx)\n",
    "            while ii:\n",
    "                idx = ii-1\n",
    "                if cost_matrix[det_asgn_idx[idx],trk_asgn_idx[idx]] > euc_thresh:\n",
    "                    del det_asgn_idx[idx], trk_asgn_idx[idx]       \n",
    "                ii -=1\n",
    "            assert(len(det_asgn_idx) == len(trk_asgn_idx))\n",
    "            \n",
    "            # Handle matches\n",
    "            for det_idx, trk_idx in zip(det_asgn_idx, trk_asgn_idx):\n",
    "                \n",
    "                # match_cols = ['ann_px','ann_py','ann_pz','ann_sx','ann_sy','ann_sz','ann_lbl',\n",
    "                # 'det_px','det_py','det_pz','det_sx','det_sy','det_sz','det_lbl','det_conf']\n",
    "                data_df = pd.DataFrame([[ann_msg.entities[trk_idx].cubes[0].pose.position.x, \n",
    "                                         ann_msg.entities[trk_idx].cubes[0].pose.position.y,\n",
    "                                         ann_msg.entities[trk_idx].cubes[0].pose.position.z,\n",
    "                                         np.arctan2(2.0*(ann_msg.entities[trk_idx].cubes[0].pose.orientation.w*ann_msg.entities[trk_idx].cubes[0].pose.orientation.z), 1 - 2*ann_msg.entities[trk_idx].cubes[0].pose.orientation.z**2),                                         \n",
    "                                         ann_msg.entities[trk_idx].cubes[0].size.x, \n",
    "                                         ann_msg.entities[trk_idx].cubes[0].size.y,\n",
    "                                         ann_msg.entities[trk_idx].cubes[0].size.z,\n",
    "                                         track_class_map[ann_msg.entities[trk_idx].metadata[0].value],\n",
    "                                         det_msg.entities[det_idx].cubes[0].pose.position.x,\n",
    "                                         det_msg.entities[det_idx].cubes[0].pose.position.y,\n",
    "                                         det_msg.entities[det_idx].cubes[0].pose.position.z,\n",
    "                                         np.arctan2(2.0*(det_msg.entities[det_idx].cubes[0].pose.orientation.w*det_msg.entities[det_idx].cubes[0].pose.orientation.z), 1 - 2*det_msg.entities[det_idx].cubes[0].pose.orientation.z**2),\n",
    "                                         det_msg.entities[det_idx].cubes[0].size.x,\n",
    "                                         det_msg.entities[det_idx].cubes[0].size.y,\n",
    "                                         det_msg.entities[det_idx].cubes[0].size.z,\n",
    "                                         det_msg.entities[det_idx].metadata[0].value,\n",
    "                                         det_msg.entities[det_idx].metadata[1].value]], columns=match_cols)\n",
    "                \n",
    "                match_df = pd.concat([match_df,data_df], axis=0)\n",
    "\n",
    "            # Handle mismatched annotations\n",
    "            for i, trk in enumerate(ann_msg.entities):\n",
    "                if i not in trk_asgn_idx: # If track is unmatched, handle it as a missed detection\n",
    "                \n",
    "                    data_df = pd.DataFrame([[ann_msg.entities[i].cubes[0].pose.position.x, \n",
    "                                         ann_msg.entities[i].cubes[0].pose.position.y,\n",
    "                                         ann_msg.entities[i].cubes[0].pose.position.z,\n",
    "                                         ann_msg.entities[i].cubes[0].size.x, \n",
    "                                         ann_msg.entities[i].cubes[0].size.y,\n",
    "                                         ann_msg.entities[i].cubes[0].size.z,\n",
    "                                         track_class_map[ann_msg.entities[i].metadata[0].value]]], \n",
    "                                           columns=unmatch_trk_cols)\n",
    "                \n",
    "                    unmatched_trk_df = pd.concat([unmatched_trk_df,data_df], axis=0)\n",
    "            \n",
    "            # Handle mismatched detections\n",
    "            # If det is unmatched, handle it as a false detection\n",
    "            for i, det in enumerate(det_msg.entities):\n",
    "                if i not in det_asgn_idx: # If track is unmatched, handle it as a missed detection\n",
    "                    data_df = pd.DataFrame([[det_msg.entities[i].cubes[0].pose.position.x,\n",
    "                                         det_msg.entities[i].cubes[0].pose.position.y,\n",
    "                                         det_msg.entities[i].cubes[0].pose.position.z,\n",
    "                                         det_msg.entities[i].cubes[0].size.x,\n",
    "                                         det_msg.entities[i].cubes[0].size.y,\n",
    "                                         det_msg.entities[i].cubes[0].size.z,\n",
    "                                         det_msg.entities[i].metadata[0].value,\n",
    "                                         det_msg.entities[i].metadata[1].value]], \n",
    "                                           columns=unmatch_det_cols)\n",
    "                \n",
    "                    unmatched_det_df = pd.concat([unmatched_det_df,data_df], axis=0)\n",
    "            \n",
    "            \n",
    "            # Loop control\n",
    "            got_ann = False\n",
    "            got_det = False\n",
    "            \n",
    "# Save dataframes\n",
    "match_df.to_csv('data/matches/' + split_name + '_matches.csv', index=False)\n",
    "unmatched_det_df.to_csv('data/matches/' + split_name + '_unmatched_dets.csv', index=False)\n",
    "unmatched_trk_df.to_csv('data/matches/' + split_name + '_unmatched_trks.csv', index=False)"
   ]
  },
  {
   "cell_type": "markdown",
   "id": "3fe10505-9f6c-4799-9a58-b36c28bd357d",
   "metadata": {},
   "source": [
    "# Load & Analyze matches"
   ]
  },
  {
   "cell_type": "code",
   "execution_count": 15,
   "id": "728d1584-5d08-4072-849c-94dd33b3ef95",
   "metadata": {},
   "outputs": [],
   "source": [
    "match_df = pd.read_csv('data/matches/' + split_name + '_matches.csv')\n",
    "unmatched_det_df = pd.read_csv('data/matches/' + split_name + '_unmatched_dets.csv')\n",
    "unmatched_trk_df = pd.read_csv('data/matches/' + split_name + '_unmatched_trks.csv')"
   ]
  },
  {
   "cell_type": "code",
   "execution_count": 16,
   "id": "cc44bada-ce7b-4064-8964-6975bbf0abcb",
   "metadata": {},
   "outputs": [
    {
     "name": "stdout",
     "output_type": "stream",
     "text": [
      "(10036, 17)\n",
      "(17489, 8)\n",
      "(3988, 7)\n"
     ]
    }
   ],
   "source": [
    "print(match_df.shape)\n",
    "print(unmatched_det_df.shape)\n",
    "print(unmatched_trk_df.shape)"
   ]
  },
  {
   "cell_type": "code",
   "execution_count": 17,
   "id": "3de72ffe-6e5a-42be-9643-2b0ba4fbca38",
   "metadata": {},
   "outputs": [
    {
     "name": "stdout",
     "output_type": "stream",
     "text": [
      "['bicycle', 'bus', 'car', 'motorcycle', 'pedestrian', 'trailer', 'truck', 'void_ignore']\n",
      "['barrier', 'bicycle', 'bus', 'car', 'construction_vehicle', 'motorcycle', 'pedestrian', 'traffic_cone', 'trailer', 'truck']\n",
      "              barrier  bicycle  bus  car  construction_vehicle  motorcycle  \\\n",
      "bicycle      0.000000      1.0  0.0  0.0              0.000000         0.0   \n",
      "bus          0.000000      0.0  1.0  0.0              0.000000         0.0   \n",
      "car          0.000000      0.0  0.0  1.0              0.000000         0.0   \n",
      "motorcycle   0.000000      0.0  0.0  0.0              0.000000         1.0   \n",
      "pedestrian   0.000000      0.0  0.0  0.0              0.000000         0.0   \n",
      "trailer      0.000000      0.0  0.0  0.0              0.000000         0.0   \n",
      "truck        0.000000      0.0  0.0  0.0              0.000000         0.0   \n",
      "void_ignore  0.604788      0.0  0.0  0.0              0.042965         0.0   \n",
      "\n",
      "             pedestrian  traffic_cone  trailer  truck  \n",
      "bicycle             0.0      0.000000      0.0    0.0  \n",
      "bus                 0.0      0.000000      0.0    0.0  \n",
      "car                 0.0      0.000000      0.0    0.0  \n",
      "motorcycle          0.0      0.000000      0.0    0.0  \n",
      "pedestrian          1.0      0.000000      0.0    0.0  \n",
      "trailer             0.0      0.000000      1.0    0.0  \n",
      "truck               0.0      0.000000      0.0    1.0  \n",
      "void_ignore         0.0      0.352247      0.0    0.0  \n"
     ]
    }
   ],
   "source": [
    "# compute discrete class distribution of p(label_candidates|class)\n",
    "# Form confusion matrix / class-det table\n",
    "det_classes = list(match_df['det_lbl'].unique())\n",
    "det_classes.sort()\n",
    "ann_classes = list(match_df['ann_lbl'].unique())\n",
    "ann_classes.sort()\n",
    "\n",
    "print(ann_classes)\n",
    "print(det_classes)\n",
    "\n",
    "raw_conf_df = pd.DataFrame(np.zeros((len(ann_classes),len(det_classes))), columns = det_classes, index=ann_classes,dtype=np.float64)\n",
    "\n",
    "for index,row in match_df.iterrows():\n",
    "    raw_conf_df[row['det_lbl']][row['ann_lbl']] +=1\n",
    "    \n",
    "p_label_class_df = raw_conf_df.div(raw_conf_df.sum(axis=1),axis=0)\n",
    "print(p_label_class_df)"
   ]
  },
  {
   "cell_type": "code",
   "execution_count": 18,
   "id": "25d78555-d297-495b-96ba-c701f1d7a383",
   "metadata": {},
   "outputs": [
    {
     "name": "stdout",
     "output_type": "stream",
     "text": [
      "bicycle\n",
      "62\n",
      "129\n",
      "0.32460732984293195\n",
      "\n",
      "bus\n",
      "183\n",
      "186\n",
      "0.4959349593495935\n",
      "\n",
      "car\n",
      "1762\n",
      "3289\n",
      "0.3488418135022768\n",
      "\n",
      "motorcycle\n",
      "73\n",
      "139\n",
      "0.3443396226415094\n",
      "\n",
      "pedestrian\n",
      "818\n",
      "2839\n",
      "0.2236806125239267\n",
      "\n",
      "trailer\n",
      "11\n",
      "49\n",
      "0.18333333333333332\n",
      "\n",
      "truck\n",
      "169\n",
      "356\n",
      "0.3219047619047619\n",
      "\n",
      "void_ignore\n",
      "910\n",
      "3049\n",
      "0.22985602424854762\n",
      "\n"
     ]
    }
   ],
   "source": [
    "# Compute missed detection probability\n",
    "miss_match_df = pd.DataFrame(np.zeros((len(ann_classes),3)), columns = ['n_misses', 'n_matches', 'p_miss'], index=ann_classes,dtype=np.float64)\n",
    "\n",
    "for ann in ann_classes:\n",
    "    print(ann)\n",
    "    print(len(unmatched_trk_df.loc[unmatched_trk_df['ann_lbl']==ann]))\n",
    "    print(len(match_df.loc[match_df['ann_lbl']==ann]))\n",
    "    print(len(unmatched_trk_df.loc[unmatched_trk_df['ann_lbl']==ann])/(len(unmatched_trk_df.loc[unmatched_trk_df['ann_lbl']==ann]) + len(match_df.loc[match_df['ann_lbl']==ann])))\n",
    "    miss_match_df.loc\n",
    "    print()"
   ]
  },
  {
   "cell_type": "code",
   "execution_count": 19,
   "id": "2c7765a6-bbcb-409e-8c0f-d8b88dabfe66",
   "metadata": {},
   "outputs": [
    {
     "name": "stdout",
     "output_type": "stream",
     "text": [
      "[0.1 0.2 0.3 0.4 0.5 0.6 0.7 0.8 0.9 1. ]\n",
      "['barrier', 'bicycle', 'bus', 'car', 'construction_vehicle', 'motorcycle', 'pedestrian', 'traffic_cone', 'trailer', 'truck']\n",
      "barrier\n",
      "false pos\n",
      "(array([7.52572707e+00, 1.71364653e+00, 5.27964206e-01, 1.87919463e-01,\n",
      "       3.57941834e-02, 4.47427293e-03, 4.47427293e-03, 0.00000000e+00,\n",
      "       0.00000000e+00]), array([0.1, 0.2, 0.3, 0.4, 0.5, 0.6, 0.7, 0.8, 0.9, 1. ]))\n",
      "true pos\n",
      "(array([2.23427332, 3.04772234, 2.6626898 , 1.35032538, 0.4989154 ,\n",
      "       0.17353579, 0.02711497, 0.00542299, 0.        ]), array([0.1, 0.2, 0.3, 0.4, 0.5, 0.6, 0.7, 0.8, 0.9, 1. ]))\n"
     ]
    },
    {
     "data": {
      "image/png": "[encoded data removed]",
      "text/plain": [
       "<Figure size 640x480 with 1 Axes>"
      ]
     },
     "metadata": {},
     "output_type": "display_data"
    },
    {
     "name": "stdout",
     "output_type": "stream",
     "text": [
      "bicycle\n",
      "false pos\n",
      "(array([8.26612903e+00, 1.19623656e+00, 3.62903226e-01, 1.20967742e-01,\n",
      "       4.03225806e-02, 6.72043011e-03, 6.72043011e-03, 0.00000000e+00,\n",
      "       0.00000000e+00]), array([0.1, 0.2, 0.3, 0.4, 0.5, 0.6, 0.7, 0.8, 0.9, 1. ]))\n",
      "true pos\n",
      "(array([2.55813953, 2.09302326, 2.17054264, 1.47286822, 0.69767442,\n",
      "       0.69767442, 0.31007752, 0.        , 0.        ]), array([0.1, 0.2, 0.3, 0.4, 0.5, 0.6, 0.7, 0.8, 0.9, 1. ]))\n"
     ]
    },
    {
     "data": {
      "image/png": "[encoded data removed]",
      "text/plain": [
       "<Figure size 640x480 with 1 Axes>"
      ]
     },
     "metadata": {},
     "output_type": "display_data"
    },
    {
     "name": "stdout",
     "output_type": "stream",
     "text": [
      "bus\n",
      "false pos\n",
      "(array([7.36280488, 1.875     , 0.48780488, 0.15243902, 0.09146341,\n",
      "       0.0304878 , 0.        , 0.        , 0.        ]), array([0.1, 0.2, 0.3, 0.4, 0.5, 0.6, 0.7, 0.8, 0.9, 1. ]))\n",
      "true pos\n",
      "(array([0.53763441, 0.32258065, 0.43010753, 0.32258065, 0.32258065,\n",
      "       0.48387097, 0.53763441, 1.29032258, 5.75268817]), array([0.1, 0.2, 0.3, 0.4, 0.5, 0.6, 0.7, 0.8, 0.9, 1. ]))\n"
     ]
    },
    {
     "data": {
      "image/png": "[encoded data removed]",
      "text/plain": [
       "<Figure size 640x480 with 1 Axes>"
      ]
     },
     "metadata": {},
     "output_type": "display_data"
    },
    {
     "name": "stdout",
     "output_type": "stream",
     "text": [
      "car\n",
      "false pos\n",
      "(array([7.08925221e+00, 1.58402573e+00, 6.59340659e-01, 3.26990083e-01,\n",
      "       1.66175288e-01, 1.09890110e-01, 5.36049317e-02, 8.04073975e-03,\n",
      "       2.68024658e-03]), array([0.1, 0.2, 0.3, 0.4, 0.5, 0.6, 0.7, 0.8, 0.9, 1. ]))\n",
      "true pos\n",
      "(array([0.68713895, 0.64153238, 0.7236242 , 0.80267559, 0.81787777,\n",
      "       1.15232593, 1.33779264, 2.35937975, 1.47765278]), array([0.1, 0.2, 0.3, 0.4, 0.5, 0.6, 0.7, 0.8, 0.9, 1. ]))\n"
     ]
    },
    {
     "data": {
      "image/png": "[encoded data removed]",
      "text/plain": [
       "<Figure size 640x480 with 1 Axes>"
      ]
     },
     "metadata": {},
     "output_type": "display_data"
    },
    {
     "name": "stdout",
     "output_type": "stream",
     "text": [
      "construction_vehicle\n",
      "false pos\n",
      "(array([8.35988754, 1.05904405, 0.29053421, 0.17806935, 0.0656045 ,\n",
      "       0.03748828, 0.        , 0.        , 0.00937207]), array([0.1, 0.2, 0.3, 0.4, 0.5, 0.6, 0.7, 0.8, 0.9, 1. ]))\n",
      "true pos\n",
      "(array([0.30534351, 0.53435115, 0.07633588, 0.        , 0.22900763,\n",
      "       0.        , 0.38167939, 1.90839695, 6.5648855 ]), array([0.1, 0.2, 0.3, 0.4, 0.5, 0.6, 0.7, 0.8, 0.9, 1. ]))\n"
     ]
    },
    {
     "data": {
      "image/png": "[encoded data removed]",
      "text/plain": [
       "<Figure size 640x480 with 1 Axes>"
      ]
     },
     "metadata": {},
     "output_type": "display_data"
    },
    {
     "name": "stdout",
     "output_type": "stream",
     "text": [
      "motorcycle\n",
      "false pos\n",
      "(array([8.36837679, 1.13540791, 0.28595458, 0.14297729, 0.04205214,\n",
      "       0.        , 0.01682086, 0.        , 0.00841043]), array([0.1, 0.2, 0.3, 0.4, 0.5, 0.6, 0.7, 0.8, 0.9, 1. ]))\n",
      "true pos\n",
      "(array([1.58273381, 1.07913669, 1.51079137, 1.36690647, 0.71942446,\n",
      "       0.9352518 , 0.86330935, 0.86330935, 1.07913669]), array([0.1, 0.2, 0.3, 0.4, 0.5, 0.6, 0.7, 0.8, 0.9, 1. ]))\n"
     ]
    },
    {
     "data": {
      "image/png": "[encoded data removed]",
      "text/plain": [
       "<Figure size 640x480 with 1 Axes>"
      ]
     },
     "metadata": {},
     "output_type": "display_data"
    },
    {
     "name": "stdout",
     "output_type": "stream",
     "text": [
      "pedestrian\n",
      "false pos\n",
      "(array([7.57785467e+00, 1.75976273e+00, 4.59713297e-01, 1.63124073e-01,\n",
      "       3.46020761e-02, 4.94315373e-03, 0.00000000e+00, 0.00000000e+00,\n",
      "       0.00000000e+00]), array([0.1, 0.2, 0.3, 0.4, 0.5, 0.6, 0.7, 0.8, 0.9, 1. ]))\n",
      "true pos\n",
      "(array([1.21169426, 2.53962663, 3.19830926, 1.81401902, 0.90524833,\n",
      "       0.28178936, 0.04931314, 0.        , 0.        ]), array([0.1, 0.2, 0.3, 0.4, 0.5, 0.6, 0.7, 0.8, 0.9, 1. ]))\n"
     ]
    },
    {
     "data": {
      "image/png": "[encoded data removed]",
      "text/plain": [
       "<Figure size 640x480 with 1 Axes>"
      ]
     },
     "metadata": {},
     "output_type": "display_data"
    },
    {
     "name": "stdout",
     "output_type": "stream",
     "text": [
      "traffic_cone\n",
      "false pos\n",
      "(array([8.06430446e+00, 1.45013123e+00, 3.60892388e-01, 9.84251969e-02,\n",
      "       1.96850394e-02, 0.00000000e+00, 6.56167979e-03, 0.00000000e+00,\n",
      "       0.00000000e+00]), array([0.1, 0.2, 0.3, 0.4, 0.5, 0.6, 0.7, 0.8, 0.9, 1. ]))\n",
      "true pos\n",
      "(array([2.19739292, 2.04841713, 2.09497207, 1.76908752, 0.90316574,\n",
      "       0.55865922, 0.32588454, 0.10242086, 0.        ]), array([0.1, 0.2, 0.3, 0.4, 0.5, 0.6, 0.7, 0.8, 0.9, 1. ]))\n"
     ]
    },
    {
     "data": {
      "image/png": "[encoded data removed]",
      "text/plain": [
       "<Figure size 640x480 with 1 Axes>"
      ]
     },
     "metadata": {},
     "output_type": "display_data"
    },
    {
     "name": "stdout",
     "output_type": "stream",
     "text": [
      "trailer\n",
      "false pos\n",
      "(array([8.31422792e+00, 1.30141605e+00, 2.29265003e-01, 1.01146325e-01,\n",
      "       2.69723533e-02, 6.74308833e-03, 6.74308833e-03, 0.00000000e+00,\n",
      "       1.34861767e-02]), array([0.1, 0.2, 0.3, 0.4, 0.5, 0.6, 0.7, 0.8, 0.9, 1. ]))\n",
      "true pos\n",
      "(array([0.81632653, 0.6122449 , 0.6122449 , 0.        , 0.        ,\n",
      "       0.        , 0.        , 0.40816327, 7.55102041]), array([0.1, 0.2, 0.3, 0.4, 0.5, 0.6, 0.7, 0.8, 0.9, 1. ]))\n"
     ]
    },
    {
     "data": {
      "image/png": "[encoded data removed]",
      "text/plain": [
       "<Figure size 640x480 with 1 Axes>"
      ]
     },
     "metadata": {},
     "output_type": "display_data"
    },
    {
     "name": "stdout",
     "output_type": "stream",
     "text": [
      "truck\n",
      "false pos\n",
      "(array([7.68275203, 1.40946011, 0.36311515, 0.20544673, 0.21500239,\n",
      "       0.07166746, 0.04300048, 0.00955566, 0.        ]), array([0.1, 0.2, 0.3, 0.4, 0.5, 0.6, 0.7, 0.8, 0.9, 1. ]))\n",
      "true pos\n",
      "(array([0.95505618, 0.64606742, 0.78651685, 0.6741573 , 0.78651685,\n",
      "       1.01123596, 1.48876404, 1.37640449, 2.2752809 ]), array([0.1, 0.2, 0.3, 0.4, 0.5, 0.6, 0.7, 0.8, 0.9, 1. ]))\n"
     ]
    },
    {
     "data": {
      "image/png": "[encoded data removed]",
      "text/plain": [
       "<Figure size 640x480 with 1 Axes>"
      ]
     },
     "metadata": {},
     "output_type": "display_data"
    }
   ],
   "source": [
    "# Compute false det probabilities\n",
    "min = 0.1\n",
    "max = 1.\n",
    "n_bins = 10\n",
    "bins = np.linspace(min, max, n_bins, dtype=float)\n",
    "print(bins)\n",
    "\n",
    "det_classes = list(unmatched_det_df['det_lbl'].unique())\n",
    "det_classes.sort()\n",
    "\n",
    "print(det_classes)\n",
    "\n",
    "for det in det_classes:\n",
    "    m_df = match_df.loc[match_df['det_lbl']==det]\n",
    "    u_df = unmatched_det_df.loc[unmatched_det_df['det_lbl']==det]\n",
    "    print(det)\n",
    "    \n",
    "    unmatch_hist = np.histogram(u_df['det_conf'].astype(np.float64), bins=bins, density=True)\n",
    "    match_hist = np.histogram(m_df['det_conf'].astype(np.float64), bins=bins, density=True)\n",
    "    print(\"false pos\")\n",
    "    print(unmatch_hist)\n",
    "    print(\"true pos\")\n",
    "    print(match_hist)\n",
    "    \n",
    "    plt.hist(m_df['det_conf'].astype(np.float64),bins=bins,density=True)\n",
    "    plt.hist(u_df['det_conf'].astype(np.float64),bins=bins)\n",
    "    \n",
    "    plt.show()"
   ]
  },
  {
   "cell_type": "markdown",
   "id": "cd6a5950-1ce9-4184-8df0-e233c9cca66c",
   "metadata": {},
   "source": [
    "# Compute sensor variance"
   ]
  },
  {
   "cell_type": "code",
   "execution_count": 23,
   "id": "dd21ed99-31bf-41b0-997e-9637de09db29",
   "metadata": {},
   "outputs": [
    {
     "name": "stdout",
     "output_type": "stream",
     "text": [
      "barrier\n",
      "pos\n",
      "0.19549480211159082\n",
      "0.01628104830024816\n",
      "\n",
      "size\n",
      "0.05828028103650998\n",
      "0.07649809989957043\n",
      "-0.06582138824411161\n",
      "0.09765586852636558\n",
      "-0.004994328456431816\n",
      "0.01864021973289383\n",
      "\n",
      "yaw\n",
      "-0.00846686649038095\n",
      "0.07899343440280769\n",
      "\n",
      "\n",
      "bicycle\n",
      "pos\n",
      "0.04231392704591208\n",
      "0.01688041976242154\n",
      "\n",
      "size\n",
      "0.04977371549975968\n",
      "0.03112594824368436\n",
      "-0.0059650814995285606\n",
      "0.009807012284184654\n",
      "-0.033629677584004945\n",
      "0.01822546092813356\n",
      "\n",
      "yaw\n",
      "-0.009817199762612923\n",
      "0.07498305964167162\n",
      "\n",
      "\n",
      "bus\n",
      "pos\n",
      "0.23089963724717338\n",
      "0.08786614893914946\n",
      "\n",
      "size\n",
      "-0.389630719605312\n",
      "1.1320998402846387\n",
      "0.01284549525476263\n",
      "0.04339544362373047\n",
      "-0.00807147020934727\n",
      "0.0605678211887527\n",
      "\n",
      "yaw\n",
      "0.0024989805238367917\n",
      "0.001475132706080469\n",
      "\n",
      "\n",
      "car\n",
      "pos\n",
      "0.07472550636858336\n",
      "0.02620064812087347\n",
      "\n",
      "size\n",
      "0.05178183935275026\n",
      "0.0761677793115582\n",
      "0.036138014284518766\n",
      "0.01747576488403233\n",
      "-0.015849575732536366\n",
      "0.017710376117058047\n",
      "\n",
      "yaw\n",
      "0.019042447665546948\n",
      "0.21465410949733477\n",
      "\n",
      "\n",
      "construction_vehicle\n",
      "pos\n",
      "0.09060535643453502\n",
      "0.04909401103547889\n",
      "\n",
      "size\n",
      "-0.3079231009592539\n",
      "1.4321349710623559\n",
      "-0.13127766493440574\n",
      "0.18796126875104782\n",
      "-0.11677258721562754\n",
      "0.17357956829861187\n",
      "\n",
      "yaw\n",
      "0.13169845002861238\n",
      "0.5043201269228305\n",
      "\n",
      "\n",
      "motorcycle\n",
      "pos\n",
      "0.06446565625321468\n",
      "0.0208133755409701\n",
      "\n",
      "size\n",
      "-0.09480666688877894\n",
      "0.04199434641022478\n",
      "0.002491159605465335\n",
      "0.022480580655700747\n",
      "0.027385929635960444\n",
      "0.00676149086749044\n",
      "\n",
      "yaw\n",
      "-0.013028446393991925\n",
      "0.0365558644992031\n",
      "\n",
      "\n",
      "pedestrian\n",
      "pos\n",
      "0.03411668572882841\n",
      "0.020252884518113648\n",
      "\n",
      "size\n",
      "0.032772758249079666\n",
      "0.025227732331701377\n",
      "0.04252421756511277\n",
      "0.010928421632925974\n",
      "0.005026299764842193\n",
      "0.011426830125905486\n",
      "\n",
      "yaw\n",
      "0.017408232211196733\n",
      "0.35679265119308984\n",
      "\n",
      "\n",
      "traffic_cone\n",
      "pos\n",
      "0.06475749675796505\n",
      "0.009353152717861473\n",
      "\n",
      "size\n",
      "0.0495133077702041\n",
      "0.019060197642585135\n",
      "0.11362364105006158\n",
      "0.0926776815412597\n",
      "0.0006659031371608594\n",
      "0.012084763463339115\n",
      "\n",
      "yaw\n",
      "-0.021493374934771055\n",
      "0.3917047460320512\n",
      "\n",
      "\n",
      "trailer\n",
      "pos\n",
      "0.06147392808634514\n",
      "0.023018272806332236\n",
      "\n",
      "size\n",
      "-0.845347538091699\n",
      "0.11262354718983716\n",
      "-0.4880961830761969\n",
      "0.07112351093379235\n",
      "-0.21287065844633177\n",
      "0.037837679401841844\n",
      "\n",
      "yaw\n",
      "0.01219495091709238\n",
      "0.017754894831501764\n",
      "\n",
      "\n",
      "truck\n",
      "pos\n",
      "0.11475515049995083\n",
      "0.0367805191068635\n",
      "\n",
      "size\n",
      "-0.04571770972348321\n",
      "0.5901754891162087\n",
      "-0.047282310067937865\n",
      "0.04413980101641036\n",
      "-0.007413188920931878\n",
      "0.04573011773590423\n",
      "\n",
      "yaw\n",
      "0.02729241033128476\n",
      "0.30545002106209956\n",
      "\n",
      "\n"
     ]
    }
   ],
   "source": [
    "det_classes = list(match_df['det_lbl'].unique())\n",
    "det_classes.sort()\n",
    "\n",
    "def euc_dist(row):\n",
    "    return np.linalg.norm((row['ann_px'] - row['det_px'],row['ann_py'] - row['det_py']))\n",
    "\n",
    "for det_cls in det_classes:\n",
    "    print(det_cls)\n",
    "    m_df = match_df.loc[match_df['det_lbl']==det_cls]\n",
    "\n",
    "    # Compute sensor position variance\n",
    "    delta_x = m_df['ann_px'] - m_df['det_px']\n",
    "    delta_y = m_df['ann_py'] - m_df['det_py']\n",
    "    delta_xy = m_df.apply(euc_dist,axis=1)\n",
    "    delta_z = m_df['ann_pz'] - m_df['det_pz']\n",
    "    \n",
    "    # Compute sensor position variance\n",
    "    delta_sx = m_df['ann_sx'] - m_df['det_sx']\n",
    "    delta_sy = m_df['ann_sy'] - m_df['det_sy']\n",
    "    delta_sz = m_df['ann_sz'] - m_df['det_sz']\n",
    "    delta_yaw = m_df['ann_yaw'] - m_df['det_yaw']\n",
    "    \n",
    "    # Apply yaw correction\n",
    "    def correct_yaw(yaw):\n",
    "        if abs(yaw)>np.pi/2:\n",
    "            return yaw - np.pi*np.sign(yaw)\n",
    "        else:\n",
    "            return yaw    \n",
    "    delta_yaw = delta_yaw.apply(lambda yaw: correct_yaw(yaw))\n",
    "    \n",
    "    # plt.figure(1)\n",
    "    # plt.subplot(311)\n",
    "    # plt.hist(delta_x.astype(np.float64),100)\n",
    "    # plt.subplot(312)\n",
    "    # plt.hist(delta_y.astype(np.float64),100)\n",
    "    # plt.subplot(313)\n",
    "    # plt.hist(delta_xy.astype(np.float64),100)\n",
    "    # plt.subplot(714)\n",
    "    # plt.hist(delta_sx.astype(np.float64),100)\n",
    "    # plt.subplot(715)\n",
    "    # plt.hist(delta_sy.astype(np.float64),100)\n",
    "    # plt.subplot(716)\n",
    "    # plt.hist(delta_sz.astype(np.float64),100)\n",
    "    # plt.subplot(717)\n",
    "    # plt.hist(delta_yaw.astype(np.float64),100)\n",
    "    # plt.show()\n",
    "    \n",
    "    print('pos')\n",
    "    # print(np.mean(delta_x))\n",
    "    # print(np.var(delta_x))\n",
    "    # print(np.mean(delta_y))\n",
    "    # print(np.var(delta_y))\n",
    "    print((np.var(delta_x) + np.var(delta_y))/2)\n",
    "    # print(np.mean(delta_z))\n",
    "    print(np.var(delta_z))\n",
    "    \n",
    "    print()\n",
    "    print('size')\n",
    "    print(np.mean(delta_sx))\n",
    "    print(np.var(delta_sx))\n",
    "    print(np.mean(delta_sy))\n",
    "    print(np.var(delta_sy))\n",
    "    print(np.mean(delta_sz))\n",
    "    print(np.var(delta_sz))\n",
    "    print()\n",
    "    print('yaw')\n",
    "    print(np.mean(delta_yaw))\n",
    "    print(np.var(delta_yaw))\n",
    "    print()\n",
    "    print()\n"
   ]
  },
  {
   "cell_type": "code",
   "execution_count": 109,
   "id": "736f43e7-7874-49cc-964d-60c5885ac6de",
   "metadata": {},
   "outputs": [
    {
     "data": {
      "image/png": "[encoded data removed]",
      "text/plain": [
       "<Figure size 640x480 with 4 Axes>"
      ]
     },
     "metadata": {},
     "output_type": "display_data"
    },
    {
     "name": "stdout",
     "output_type": "stream",
     "text": [
      "0.0245849312055087\n",
      "0.1195705366994839\n",
      "0.018359982218268414\n",
      "0.04653887459823531\n",
      "-0.007647847284687268\n",
      "0.01974064942990225\n",
      "0.009795673606743703\n",
      "0.2471394166403764\n"
     ]
    }
   ],
   "source": []
  },
  {
   "cell_type": "code",
   "execution_count": null,
   "id": "70a63a91-6829-4924-b96a-cac110485488",
   "metadata": {},
   "outputs": [],
   "source": []
  },
  {
   "cell_type": "code",
   "execution_count": null,
   "id": "5fa42473-ed80-45c7-9455-299468e95f64",
   "metadata": {},
   "outputs": [],
   "source": []
  },
  {
   "cell_type": "code",
   "execution_count": 46,
   "id": "402a294f",
   "metadata": {},
   "outputs": [
    {
     "name": "stdout",
     "output_type": "stream",
     "text": [
      "Processing scene scene-0001\n",
      "/home/jd/nuScenes/data/mcap/scene-0001-megvii/scene-0001-megvii_0.mcap \n",
      "\n",
      "Processing scene scene-0002\n",
      "/home/jd/nuScenes/data/mcap/scene-0002-megvii/scene-0002-megvii_0.mcap \n",
      "\n",
      "Processing scene scene-0004\n",
      "/home/jd/nuScenes/data/mcap/scene-0004-megvii/scene-0004-megvii_0.mcap \n",
      "\n",
      "Processing scene scene-0005\n",
      "/home/jd/nuScenes/data/mcap/scene-0005-megvii/scene-0005-megvii_0.mcap \n",
      "\n",
      "Processing scene scene-0006\n",
      "/home/jd/nuScenes/data/mcap/scene-0006-megvii/scene-0006-megvii_0.mcap \n",
      "\n",
      "Processing scene scene-0007\n",
      "/home/jd/nuScenes/data/mcap/scene-0007-megvii/scene-0007-megvii_0.mcap \n",
      "\n",
      "Processing scene scene-0008\n",
      "/home/jd/nuScenes/data/mcap/scene-0008-megvii/scene-0008-megvii_0.mcap \n",
      "\n",
      "Processing scene scene-0009\n",
      "/home/jd/nuScenes/data/mcap/scene-0009-megvii/scene-0009-megvii_0.mcap \n",
      "\n",
      "Processing scene scene-0010\n",
      "/home/jd/nuScenes/data/mcap/scene-0010-megvii/scene-0010-megvii_0.mcap \n",
      "\n",
      "Processing scene scene-0011\n",
      "/home/jd/nuScenes/data/mcap/scene-0011-megvii/scene-0011-megvii_0.mcap \n",
      "\n",
      "Processing scene scene-0019\n",
      "/home/jd/nuScenes/data/mcap/scene-0019-megvii/scene-0019-megvii_0.mcap \n",
      "\n",
      "Processing scene scene-0020\n",
      "/home/jd/nuScenes/data/mcap/scene-0020-megvii/scene-0020-megvii_0.mcap \n",
      "\n",
      "Processing scene scene-0021\n",
      "/home/jd/nuScenes/data/mcap/scene-0021-megvii/scene-0021-megvii_0.mcap \n",
      "\n",
      "Processing scene scene-0022\n",
      "/home/jd/nuScenes/data/mcap/scene-0022-megvii/scene-0022-megvii_0.mcap \n",
      "\n",
      "Processing scene scene-0023\n",
      "/home/jd/nuScenes/data/mcap/scene-0023-megvii/scene-0023-megvii_0.mcap \n",
      "\n",
      "Processing scene scene-0024\n",
      "/home/jd/nuScenes/data/mcap/scene-0024-megvii/scene-0024-megvii_0.mcap \n",
      "\n",
      "Processing scene scene-0025\n",
      "/home/jd/nuScenes/data/mcap/scene-0025-megvii/scene-0025-megvii_0.mcap \n",
      "\n",
      "Processing scene scene-0026\n",
      "/home/jd/nuScenes/data/mcap/scene-0026-megvii/scene-0026-megvii_0.mcap \n",
      "\n",
      "Processing scene scene-0027\n",
      "/home/jd/nuScenes/data/mcap/scene-0027-megvii/scene-0027-megvii_0.mcap \n",
      "\n",
      "Processing scene scene-0028\n",
      "/home/jd/nuScenes/data/mcap/scene-0028-megvii/scene-0028-megvii_0.mcap \n",
      "\n"
     ]
    },
    {
     "ename": "KeyboardInterrupt",
     "evalue": "",
     "output_type": "error",
     "traceback": [
      "\u001b[0;31m---------------------------------------------------------------------------\u001b[0m",
      "\u001b[0;31mKeyboardInterrupt\u001b[0m                         Traceback (most recent call last)",
      "Cell \u001b[0;32mIn[46], line 85\u001b[0m\n\u001b[1;32m     68\u001b[0m \u001b[38;5;28;01mif\u001b[39;00m euc_dist \u001b[38;5;241m<\u001b[39m euc_thresh:\n\u001b[1;32m     69\u001b[0m     data_df \u001b[38;5;241m=\u001b[39m pd\u001b[38;5;241m.\u001b[39mDataFrame([[ann_msg\u001b[38;5;241m.\u001b[39mentities[jj]\u001b[38;5;241m.\u001b[39mcubes[\u001b[38;5;241m0\u001b[39m]\u001b[38;5;241m.\u001b[39mpose\u001b[38;5;241m.\u001b[39mposition\u001b[38;5;241m.\u001b[39mx, \n\u001b[1;32m     70\u001b[0m                              ann_msg\u001b[38;5;241m.\u001b[39mentities[jj]\u001b[38;5;241m.\u001b[39mcubes[\u001b[38;5;241m0\u001b[39m]\u001b[38;5;241m.\u001b[39mpose\u001b[38;5;241m.\u001b[39mposition\u001b[38;5;241m.\u001b[39my,\n\u001b[1;32m     71\u001b[0m                              ann_msg\u001b[38;5;241m.\u001b[39mentities[jj]\u001b[38;5;241m.\u001b[39mcubes[\u001b[38;5;241m0\u001b[39m]\u001b[38;5;241m.\u001b[39mpose\u001b[38;5;241m.\u001b[39mposition\u001b[38;5;241m.\u001b[39mz,\n\u001b[0;32m   (...)\u001b[0m\n\u001b[1;32m     82\u001b[0m                              det_msg\u001b[38;5;241m.\u001b[39mentities[ii]\u001b[38;5;241m.\u001b[39mmetadata[\u001b[38;5;241m0\u001b[39m]\u001b[38;5;241m.\u001b[39mvalue,\n\u001b[1;32m     83\u001b[0m                              det_msg\u001b[38;5;241m.\u001b[39mentities[ii]\u001b[38;5;241m.\u001b[39mmetadata[\u001b[38;5;241m1\u001b[39m]\u001b[38;5;241m.\u001b[39mvalue]], columns\u001b[38;5;241m=\u001b[39mmatch_cols)\n\u001b[0;32m---> 85\u001b[0m     match_df \u001b[38;5;241m=\u001b[39m \u001b[43mpd\u001b[49m\u001b[38;5;241;43m.\u001b[39;49m\u001b[43mconcat\u001b[49m\u001b[43m(\u001b[49m\u001b[43m[\u001b[49m\u001b[43mmatch_df\u001b[49m\u001b[43m,\u001b[49m\u001b[43mdata_df\u001b[49m\u001b[43m]\u001b[49m\u001b[43m,\u001b[49m\u001b[43m \u001b[49m\u001b[43maxis\u001b[49m\u001b[38;5;241;43m=\u001b[39;49m\u001b[38;5;241;43m0\u001b[39;49m\u001b[43m)\u001b[49m\n\u001b[1;32m     87\u001b[0m     matched_tracks\u001b[38;5;241m.\u001b[39mappend(jj)\n\u001b[1;32m     88\u001b[0m     matched_dets\u001b[38;5;241m.\u001b[39mappend(ii)\n",
      "File \u001b[0;32m~/anaconda3/envs/ros2/lib/python3.10/site-packages/pandas/util/_decorators.py:311\u001b[0m, in \u001b[0;36mdeprecate_nonkeyword_arguments.<locals>.decorate.<locals>.wrapper\u001b[0;34m(*args, **kwargs)\u001b[0m\n\u001b[1;32m    305\u001b[0m \u001b[38;5;28;01mif\u001b[39;00m \u001b[38;5;28mlen\u001b[39m(args) \u001b[38;5;241m>\u001b[39m num_allow_args:\n\u001b[1;32m    306\u001b[0m     warnings\u001b[38;5;241m.\u001b[39mwarn(\n\u001b[1;32m    307\u001b[0m         msg\u001b[38;5;241m.\u001b[39mformat(arguments\u001b[38;5;241m=\u001b[39marguments),\n\u001b[1;32m    308\u001b[0m         \u001b[38;5;167;01mFutureWarning\u001b[39;00m,\n\u001b[1;32m    309\u001b[0m         stacklevel\u001b[38;5;241m=\u001b[39mstacklevel,\n\u001b[1;32m    310\u001b[0m     )\n\u001b[0;32m--> 311\u001b[0m \u001b[38;5;28;01mreturn\u001b[39;00m \u001b[43mfunc\u001b[49m\u001b[43m(\u001b[49m\u001b[38;5;241;43m*\u001b[39;49m\u001b[43margs\u001b[49m\u001b[43m,\u001b[49m\u001b[43m \u001b[49m\u001b[38;5;241;43m*\u001b[39;49m\u001b[38;5;241;43m*\u001b[39;49m\u001b[43mkwargs\u001b[49m\u001b[43m)\u001b[49m\n",
      "File \u001b[0;32m~/anaconda3/envs/ros2/lib/python3.10/site-packages/pandas/core/reshape/concat.py:359\u001b[0m, in \u001b[0;36mconcat\u001b[0;34m(objs, axis, join, ignore_index, keys, levels, names, verify_integrity, sort, copy)\u001b[0m\n\u001b[1;32m    155\u001b[0m \u001b[38;5;250m\u001b[39m\u001b[38;5;124;03m\"\"\"\u001b[39;00m\n\u001b[1;32m    156\u001b[0m \u001b[38;5;124;03mConcatenate pandas objects along a particular axis with optional set logic\u001b[39;00m\n\u001b[1;32m    157\u001b[0m \u001b[38;5;124;03malong the other axes.\u001b[39;00m\n\u001b[0;32m   (...)\u001b[0m\n\u001b[1;32m    344\u001b[0m \u001b[38;5;124;03mValueError: Indexes have overlapping values: ['a']\u001b[39;00m\n\u001b[1;32m    345\u001b[0m \u001b[38;5;124;03m\"\"\"\u001b[39;00m\n\u001b[1;32m    346\u001b[0m op \u001b[38;5;241m=\u001b[39m _Concatenator(\n\u001b[1;32m    347\u001b[0m     objs,\n\u001b[1;32m    348\u001b[0m     axis\u001b[38;5;241m=\u001b[39maxis,\n\u001b[0;32m   (...)\u001b[0m\n\u001b[1;32m    356\u001b[0m     sort\u001b[38;5;241m=\u001b[39msort,\n\u001b[1;32m    357\u001b[0m )\n\u001b[0;32m--> 359\u001b[0m \u001b[38;5;28;01mreturn\u001b[39;00m \u001b[43mop\u001b[49m\u001b[38;5;241;43m.\u001b[39;49m\u001b[43mget_result\u001b[49m\u001b[43m(\u001b[49m\u001b[43m)\u001b[49m\n",
      "File \u001b[0;32m~/anaconda3/envs/ros2/lib/python3.10/site-packages/pandas/core/reshape/concat.py:592\u001b[0m, in \u001b[0;36m_Concatenator.get_result\u001b[0;34m(self)\u001b[0m\n\u001b[1;32m    588\u001b[0m             indexers[ax] \u001b[38;5;241m=\u001b[39m obj_labels\u001b[38;5;241m.\u001b[39mget_indexer(new_labels)\n\u001b[1;32m    590\u001b[0m     mgrs_indexers\u001b[38;5;241m.\u001b[39mappend((obj\u001b[38;5;241m.\u001b[39m_mgr, indexers))\n\u001b[0;32m--> 592\u001b[0m new_data \u001b[38;5;241m=\u001b[39m \u001b[43mconcatenate_managers\u001b[49m\u001b[43m(\u001b[49m\n\u001b[1;32m    593\u001b[0m \u001b[43m    \u001b[49m\u001b[43mmgrs_indexers\u001b[49m\u001b[43m,\u001b[49m\u001b[43m \u001b[49m\u001b[38;5;28;43mself\u001b[39;49m\u001b[38;5;241;43m.\u001b[39;49m\u001b[43mnew_axes\u001b[49m\u001b[43m,\u001b[49m\u001b[43m \u001b[49m\u001b[43mconcat_axis\u001b[49m\u001b[38;5;241;43m=\u001b[39;49m\u001b[38;5;28;43mself\u001b[39;49m\u001b[38;5;241;43m.\u001b[39;49m\u001b[43mbm_axis\u001b[49m\u001b[43m,\u001b[49m\u001b[43m \u001b[49m\u001b[43mcopy\u001b[49m\u001b[38;5;241;43m=\u001b[39;49m\u001b[38;5;28;43mself\u001b[39;49m\u001b[38;5;241;43m.\u001b[39;49m\u001b[43mcopy\u001b[49m\n\u001b[1;32m    594\u001b[0m \u001b[43m\u001b[49m\u001b[43m)\u001b[49m\n\u001b[1;32m    595\u001b[0m \u001b[38;5;28;01mif\u001b[39;00m \u001b[38;5;129;01mnot\u001b[39;00m \u001b[38;5;28mself\u001b[39m\u001b[38;5;241m.\u001b[39mcopy:\n\u001b[1;32m    596\u001b[0m     new_data\u001b[38;5;241m.\u001b[39m_consolidate_inplace()\n",
      "File \u001b[0;32m~/anaconda3/envs/ros2/lib/python3.10/site-packages/pandas/core/internals/concat.py:241\u001b[0m, in \u001b[0;36mconcatenate_managers\u001b[0;34m(mgrs_indexers, axes, concat_axis, copy)\u001b[0m\n\u001b[1;32m    239\u001b[0m     fastpath \u001b[38;5;241m=\u001b[39m blk\u001b[38;5;241m.\u001b[39mvalues\u001b[38;5;241m.\u001b[39mdtype \u001b[38;5;241m==\u001b[39m values\u001b[38;5;241m.\u001b[39mdtype\n\u001b[1;32m    240\u001b[0m \u001b[38;5;28;01melse\u001b[39;00m:\n\u001b[0;32m--> 241\u001b[0m     values \u001b[38;5;241m=\u001b[39m \u001b[43m_concatenate_join_units\u001b[49m\u001b[43m(\u001b[49m\u001b[43mjoin_units\u001b[49m\u001b[43m,\u001b[49m\u001b[43m \u001b[49m\u001b[43mcopy\u001b[49m\u001b[38;5;241;43m=\u001b[39;49m\u001b[43mcopy\u001b[49m\u001b[43m)\u001b[49m\n\u001b[1;32m    242\u001b[0m     fastpath \u001b[38;5;241m=\u001b[39m \u001b[38;5;28;01mFalse\u001b[39;00m\n\u001b[1;32m    244\u001b[0m \u001b[38;5;28;01mif\u001b[39;00m fastpath:\n",
      "File \u001b[0;32m~/anaconda3/envs/ros2/lib/python3.10/site-packages/pandas/core/internals/concat.py:495\u001b[0m, in \u001b[0;36m_concatenate_join_units\u001b[0;34m(join_units, copy)\u001b[0m\n\u001b[1;32m    492\u001b[0m     concat_values \u001b[38;5;241m=\u001b[39m ensure_block_shape(concat_values, \u001b[38;5;241m2\u001b[39m)\n\u001b[1;32m    494\u001b[0m \u001b[38;5;28;01melse\u001b[39;00m:\n\u001b[0;32m--> 495\u001b[0m     concat_values \u001b[38;5;241m=\u001b[39m \u001b[43mconcat_compat\u001b[49m\u001b[43m(\u001b[49m\u001b[43mto_concat\u001b[49m\u001b[43m,\u001b[49m\u001b[43m \u001b[49m\u001b[43maxis\u001b[49m\u001b[38;5;241;43m=\u001b[39;49m\u001b[38;5;241;43m1\u001b[39;49m\u001b[43m)\u001b[49m\n\u001b[1;32m    497\u001b[0m \u001b[38;5;28;01mreturn\u001b[39;00m concat_values\n",
      "File \u001b[0;32m~/anaconda3/envs/ros2/lib/python3.10/site-packages/pandas/core/dtypes/concat.py:151\u001b[0m, in \u001b[0;36mconcat_compat\u001b[0;34m(to_concat, axis, ea_compat_axis)\u001b[0m\n\u001b[1;32m    148\u001b[0m             to_concat \u001b[38;5;241m=\u001b[39m [x\u001b[38;5;241m.\u001b[39mastype(\u001b[38;5;124m\"\u001b[39m\u001b[38;5;124mobject\u001b[39m\u001b[38;5;124m\"\u001b[39m) \u001b[38;5;28;01mfor\u001b[39;00m x \u001b[38;5;129;01min\u001b[39;00m to_concat]\n\u001b[1;32m    149\u001b[0m             kinds \u001b[38;5;241m=\u001b[39m {\u001b[38;5;124m\"\u001b[39m\u001b[38;5;124mo\u001b[39m\u001b[38;5;124m\"\u001b[39m}\n\u001b[0;32m--> 151\u001b[0m result \u001b[38;5;241m=\u001b[39m \u001b[43mnp\u001b[49m\u001b[38;5;241;43m.\u001b[39;49m\u001b[43mconcatenate\u001b[49m\u001b[43m(\u001b[49m\u001b[43mto_concat\u001b[49m\u001b[43m,\u001b[49m\u001b[43m \u001b[49m\u001b[43maxis\u001b[49m\u001b[38;5;241;43m=\u001b[39;49m\u001b[43maxis\u001b[49m\u001b[43m)\u001b[49m\n\u001b[1;32m    152\u001b[0m \u001b[38;5;28;01mif\u001b[39;00m \u001b[38;5;124m\"\u001b[39m\u001b[38;5;124mb\u001b[39m\u001b[38;5;124m\"\u001b[39m \u001b[38;5;129;01min\u001b[39;00m kinds \u001b[38;5;129;01mand\u001b[39;00m result\u001b[38;5;241m.\u001b[39mdtype\u001b[38;5;241m.\u001b[39mkind \u001b[38;5;129;01min\u001b[39;00m [\u001b[38;5;124m\"\u001b[39m\u001b[38;5;124mi\u001b[39m\u001b[38;5;124m\"\u001b[39m, \u001b[38;5;124m\"\u001b[39m\u001b[38;5;124mu\u001b[39m\u001b[38;5;124m\"\u001b[39m, \u001b[38;5;124m\"\u001b[39m\u001b[38;5;124mf\u001b[39m\u001b[38;5;124m\"\u001b[39m]:\n\u001b[1;32m    153\u001b[0m     \u001b[38;5;66;03m# GH#39817\u001b[39;00m\n\u001b[1;32m    154\u001b[0m     warnings\u001b[38;5;241m.\u001b[39mwarn(\n\u001b[1;32m    155\u001b[0m         \u001b[38;5;124m\"\u001b[39m\u001b[38;5;124mBehavior when concatenating bool-dtype and numeric-dtype arrays is \u001b[39m\u001b[38;5;124m\"\u001b[39m\n\u001b[1;32m    156\u001b[0m         \u001b[38;5;124m\"\u001b[39m\u001b[38;5;124mdeprecated; in a future version these will cast to object dtype \u001b[39m\u001b[38;5;124m\"\u001b[39m\n\u001b[0;32m   (...)\u001b[0m\n\u001b[1;32m    160\u001b[0m         stacklevel\u001b[38;5;241m=\u001b[39mfind_stack_level(),\n\u001b[1;32m    161\u001b[0m     )\n",
      "File \u001b[0;32m<__array_function__ internals>:180\u001b[0m, in \u001b[0;36mconcatenate\u001b[0;34m(*args, **kwargs)\u001b[0m\n",
      "\u001b[0;31mKeyboardInterrupt\u001b[0m: "
     ]
    }
   ],
   "source": [
    "# FIRST PASS - examine candidate matches\n",
    "\n",
    "# Main loop - iterate through splits and mcaps\n",
    "split = eval('nuscenes_splits.' + split_name)\n",
    "\n",
    "for scene in split: # for scene in split\n",
    "    print(\"Processing scene %s\" % (scene))\n",
    "    print(\"%s/%s%s/%s%s_0.mcap \\n\" % (mcap_dir, scene, lidar_det_string, scene, lidar_det_string))\n",
    "\n",
    "    # Load bag\n",
    "    storage_options = rosbag2_py.StorageOptions(\n",
    "        uri=\"%s/%s%s/%s%s_0.mcap\" % (mcap_dir, scene, lidar_det_string, scene, lidar_det_string),\n",
    "        storage_id='mcap')\n",
    "    converter_options = rosbag2_py.ConverterOptions('', '')\n",
    "    reader.open(storage_options, converter_options)\n",
    "    \n",
    "    \n",
    "    # Deal with type names\n",
    "    topic_types = reader.get_all_topics_and_types()\n",
    "\n",
    "    def typename(topic_name):\n",
    "        for topic_type in topic_types:\n",
    "            if topic_type.name == topic_name:\n",
    "                return topic_type.type\n",
    "        raise ValueError(f\"topic {topic_name} not in bag\")\n",
    " \n",
    "    got_ann = False\n",
    "    got_det = False\n",
    "    matched_tracks = []\n",
    "    matched_dets = []\n",
    "    \n",
    "    # Iterate through messages in .mcap\n",
    "    while reader.has_next():\n",
    "        \n",
    "        topic, data, timestamp = reader.read_next()\n",
    "\n",
    "        if topic==ann_topic:\n",
    "            # self.get_logger().info(\"Topic: %s\" % (topic))                  \n",
    "\n",
    "            ann_msg_type = get_message(typename(topic))\n",
    "            ann_msg = deserialize_message(data, ann_msg_type)\n",
    "            \n",
    "            got_ann = True\n",
    "        \n",
    "        if topic==det_topic:\n",
    "            # self.get_logger().info(\"Topic: %s\" % (topic))                  \n",
    "\n",
    "            det_msg_type = get_message(typename(topic))\n",
    "            det_msg = deserialize_message(data, det_msg_type)\n",
    "            \n",
    "            got_det = True\n",
    "            \n",
    "        if got_ann and got_det:\n",
    "           \n",
    "            # Compute cost matrix\n",
    "            n_dets = len(det_msg.entities)\n",
    "            n_anns = len(ann_msg.entities)\n",
    "            \n",
    "            cost_matrix = np.zeros((n_dets,n_anns))\n",
    "            for ii,det in enumerate(det_msg.entities):\n",
    "                for jj,trk in enumerate(ann_msg.entities):\n",
    "                    \n",
    "                    euc_dist = np.linalg.norm([det.cubes[0].pose.position.x - trk.cubes[0].pose.position.x,\n",
    "                                           det.cubes[0].pose.position.y - trk.cubes[0].pose.position.y,\n",
    "                                           det.cubes[0].pose.position.z - trk.cubes[0].pose.position.z])\n",
    "                    \n",
    "                    # IF this is a potential candidate match\n",
    "                    if euc_dist < euc_thresh:\n",
    "                        data_df = pd.DataFrame([[ann_msg.entities[jj].cubes[0].pose.position.x, \n",
    "                                                 ann_msg.entities[jj].cubes[0].pose.position.y,\n",
    "                                                 ann_msg.entities[jj].cubes[0].pose.position.z,\n",
    "                                                 ann_msg.entities[jj].cubes[0].size.x, \n",
    "                                                 ann_msg.entities[jj].cubes[0].size.y,\n",
    "                                                 ann_msg.entities[jj].cubes[0].size.z,\n",
    "                                                 ann_msg.entities[jj].metadata[0].value, # tracking_class_map[]\n",
    "                                                 det_msg.entities[ii].cubes[0].pose.position.x,\n",
    "                                                 det_msg.entities[ii].cubes[0].pose.position.y,\n",
    "                                                 det_msg.entities[ii].cubes[0].pose.position.z,\n",
    "                                                 det_msg.entities[ii].cubes[0].size.x,\n",
    "                                                 det_msg.entities[ii].cubes[0].size.y,\n",
    "                                                 det_msg.entities[ii].cubes[0].size.z,\n",
    "                                                 det_msg.entities[ii].metadata[0].value,\n",
    "                                                 det_msg.entities[ii].metadata[1].value]], columns=match_cols)\n",
    "\n",
    "                        match_df = pd.concat([match_df,data_df], axis=0)\n",
    "                        \n",
    "                        matched_tracks.append(jj)\n",
    "                        matched_dets.append(ii)\n",
    "            \n",
    "\n",
    "            # Handle mismatched annotations\n",
    "            for i, trk in enumerate(ann_msg.entities):\n",
    "                if i not in matched_tracks: # If track is unmatched, handle it as a missed detection\n",
    "                \n",
    "                    data_df = pd.DataFrame([[ann_msg.entities[i].cubes[0].pose.position.x, \n",
    "                                         ann_msg.entities[i].cubes[0].pose.position.y,\n",
    "                                         ann_msg.entities[i].cubes[0].pose.position.z,\n",
    "                                         ann_msg.entities[i].cubes[0].size.x, \n",
    "                                         ann_msg.entities[i].cubes[0].size.y,\n",
    "                                         ann_msg.entities[i].cubes[0].size.z,\n",
    "                                         ann_msg.entities[i].metadata[0].value]], \n",
    "                                           columns=unmatch_trk_cols)\n",
    "                \n",
    "                    unmatched_trk_df = pd.concat([unmatched_trk_df,data_df], axis=0)\n",
    "            \n",
    "            # Handle mismatched detections\n",
    "            # If det is unmatched, handle it as a false detection\n",
    "            for i, det in enumerate(det_msg.entities):\n",
    "                if i not in matched_dets: # If track is unmatched, handle it as a missed detection\n",
    "                    data_df = pd.DataFrame([[det_msg.entities[i].cubes[0].pose.position.x,\n",
    "                                         det_msg.entities[i].cubes[0].pose.position.y,\n",
    "                                         det_msg.entities[i].cubes[0].pose.position.z,\n",
    "                                         det_msg.entities[i].cubes[0].size.x,\n",
    "                                         det_msg.entities[i].cubes[0].size.y,\n",
    "                                         det_msg.entities[i].cubes[0].size.z,\n",
    "                                         det_msg.entities[i].metadata[0].value,\n",
    "                                         det_msg.entities[i].metadata[1].value]], \n",
    "                                           columns=unmatch_det_cols)\n",
    "                \n",
    "                    unmatched_det_df = pd.concat([unmatched_det_df,data_df], axis=0)\n",
    "            \n",
    "            \n",
    "            # Loop control\n",
    "            got_ann = False\n",
    "            got_det = False\n",
    "            matched_tracks = []\n",
    "            matched_dets = []        "
   ]
  },
  {
   "cell_type": "markdown",
   "id": "7d33ee8c",
   "metadata": {},
   "source": [
    "# Analyze match candidates"
   ]
  },
  {
   "cell_type": "code",
   "execution_count": 39,
   "id": "ff1128db",
   "metadata": {},
   "outputs": [
    {
     "name": "stdout",
     "output_type": "stream",
     "text": [
      "(24003, 15)\n",
      "(12882, 8)\n",
      "(3155, 7)\n"
     ]
    }
   ],
   "source": [
    "# analyze the first pass - \n",
    "print(match_df.shape)\n",
    "print(unmatched_det_df.shape)\n",
    "print(unmatched_trk_df.shape)"
   ]
  },
  {
   "cell_type": "markdown",
   "id": "67582582-3b41-4a7f-b96f-a498de2a346e",
   "metadata": {},
   "source": [
    "## p(label_candidate|class)"
   ]
  },
  {
   "cell_type": "markdown",
   "id": "4ce91c2f-99bb-4fa4-ac77-eea4d72f445a",
   "metadata": {},
   "source": [
    "## Compute confusion matrix p(label|class)"
   ]
  },
  {
   "cell_type": "code",
   "execution_count": 40,
   "id": "dbe288c8",
   "metadata": {},
   "outputs": [
    {
     "name": "stdout",
     "output_type": "stream",
     "text": [
      "['human.pedestrian.adult', 'human.pedestrian.construction_worker', 'human.pedestrian.personal_mobility', 'human.pedestrian.police_officer', 'movable_object.barrier', 'movable_object.debris', 'movable_object.pushable_pullable', 'movable_object.trafficcone', 'vehicle.bicycle', 'vehicle.bus.bendy', 'vehicle.bus.rigid', 'vehicle.car', 'vehicle.construction', 'vehicle.motorcycle', 'vehicle.trailer', 'vehicle.truck']\n",
      "['barrier', 'bicycle', 'bus', 'car', 'construction_vehicle', 'motorcycle', 'pedestrian', 'traffic_cone', 'trailer', 'truck']\n",
      "                                      barrier  bicycle    bus     car  \\\n",
      "human.pedestrian.adult                  185.0    269.0   10.0    42.0   \n",
      "human.pedestrian.construction_worker    303.0     23.0    0.0     7.0   \n",
      "human.pedestrian.personal_mobility        0.0     11.0    0.0     0.0   \n",
      "human.pedestrian.police_officer           0.0      0.0    0.0     0.0   \n",
      "movable_object.barrier                 4497.0     81.0    3.0    78.0   \n",
      "movable_object.debris                     0.0      1.0    0.0     0.0   \n",
      "movable_object.pushable_pullable          0.0     23.0    0.0     1.0   \n",
      "movable_object.trafficcone              751.0     61.0    0.0   129.0   \n",
      "vehicle.bicycle                          80.0    203.0    0.0    18.0   \n",
      "vehicle.bus.bendy                         0.0      0.0   39.0     2.0   \n",
      "vehicle.bus.rigid                         1.0      0.0  147.0    20.0   \n",
      "vehicle.car                             103.0     39.0   54.0  3566.0   \n",
      "vehicle.construction                     37.0      0.0    1.0     3.0   \n",
      "vehicle.motorcycle                        5.0     37.0    0.0    33.0   \n",
      "vehicle.trailer                           0.0      0.0    0.0     0.0   \n",
      "vehicle.truck                             4.0      0.0   41.0   174.0   \n",
      "\n",
      "                                      construction_vehicle  motorcycle  \\\n",
      "human.pedestrian.adult                                33.0        77.0   \n",
      "human.pedestrian.construction_worker                   2.0         2.0   \n",
      "human.pedestrian.personal_mobility                     0.0         0.0   \n",
      "human.pedestrian.police_officer                        0.0         1.0   \n",
      "movable_object.barrier                                56.0        26.0   \n",
      "movable_object.debris                                  0.0         0.0   \n",
      "movable_object.pushable_pullable                       0.0         0.0   \n",
      "movable_object.trafficcone                            18.0        21.0   \n",
      "vehicle.bicycle                                       18.0         6.0   \n",
      "vehicle.bus.bendy                                      4.0         0.0   \n",
      "vehicle.bus.rigid                                      9.0         0.0   \n",
      "vehicle.car                                           53.0        88.0   \n",
      "vehicle.construction                                 127.0         2.0   \n",
      "vehicle.motorcycle                                     1.0       146.0   \n",
      "vehicle.trailer                                        0.0         0.0   \n",
      "vehicle.truck                                          7.0         1.0   \n",
      "\n",
      "                                      pedestrian  traffic_cone  trailer  truck  \n",
      "human.pedestrian.adult                    6420.0         127.0     13.0   29.0  \n",
      "human.pedestrian.construction_worker       288.0          53.0      0.0    5.0  \n",
      "human.pedestrian.personal_mobility          26.0           2.0      0.0    0.0  \n",
      "human.pedestrian.police_officer              9.0           0.0      0.0    0.0  \n",
      "movable_object.barrier                     212.0         686.0     15.0   26.0  \n",
      "movable_object.debris                        0.0           2.0      0.0    0.0  \n",
      "movable_object.pushable_pullable            90.0           9.0      0.0    0.0  \n",
      "movable_object.trafficcone                 108.0        2474.0     18.0    6.0  \n",
      "vehicle.bicycle                            129.0          21.0      0.0   13.0  \n",
      "vehicle.bus.bendy                            0.0           0.0      1.0    9.0  \n",
      "vehicle.bus.rigid                            0.0           0.0      6.0   40.0  \n",
      "vehicle.car                                 13.0          64.0     15.0  777.0  \n",
      "vehicle.construction                         3.0           5.0      5.0    1.0  \n",
      "vehicle.motorcycle                          40.0          13.0      0.0    3.0  \n",
      "vehicle.trailer                              0.0           0.0     58.0    0.0  \n",
      "vehicle.truck                                3.0           0.0     22.0  364.0  \n"
     ]
    }
   ],
   "source": [
    "# compute discrete class distribution of p(label_candidates|class)\n",
    "# Form confusion matrix / class-det table\n",
    "det_classes = list(match_df['det_lbl'].unique())\n",
    "det_classes.sort()\n",
    "# det_classes.insert(0,'missed_det')\n",
    "ann_classes = list(match_df['ann_lbl'].unique())\n",
    "ann_classes.sort()\n",
    "# ann_classes.insert(0,'false_det')\n",
    "\n",
    "print(ann_classes)\n",
    "print(det_classes)\n",
    "\n",
    "raw_conf_df = pd.DataFrame(np.zeros((len(ann_classes),len(det_classes))), columns = det_classes, index=ann_classes,dtype=np.float64)\n",
    "\n",
    "for index,row in match_df.iterrows():\n",
    "    raw_conf_df[row['det_lbl']][row['ann_lbl']] +=1\n",
    "    \n",
    "# Treat unmatched dets as false det classs\n",
    "# for index,row in unmatched_det_df.iterrows():\n",
    "#     raw_conf_df[row['det_lbl']]['false_det'] +=1\n",
    "\n",
    "# Treat unmatched tracks as missed dets\n",
    "# for index,row in unmatched_trk_df.iterrows():\n",
    "#     raw_conf_df['missed_det'][row['ann_lbl']] +=1\n",
    "\n",
    "print(raw_conf_df)\n"
   ]
  },
  {
   "cell_type": "code",
   "execution_count": 41,
   "id": "cf72d3d3",
   "metadata": {
    "scrolled": true
   },
   "outputs": [
    {
     "name": "stdout",
     "output_type": "stream",
     "text": [
      "                                       barrier   bicycle       bus       car  \\\n",
      "human.pedestrian.adult                0.025677  0.037335  0.001388  0.005829   \n",
      "human.pedestrian.construction_worker  0.443631  0.033675  0.000000  0.010249   \n",
      "human.pedestrian.personal_mobility    0.000000  0.282051  0.000000  0.000000   \n",
      "human.pedestrian.police_officer       0.000000  0.000000  0.000000  0.000000   \n",
      "movable_object.barrier                0.791725  0.014261  0.000528  0.013732   \n",
      "movable_object.debris                 0.000000  0.333333  0.000000  0.000000   \n",
      "movable_object.pushable_pullable      0.000000  0.186992  0.000000  0.008130   \n",
      "movable_object.trafficcone            0.209426  0.017011  0.000000  0.035973   \n",
      "vehicle.bicycle                       0.163934  0.415984  0.000000  0.036885   \n",
      "vehicle.bus.bendy                     0.000000  0.000000  0.709091  0.036364   \n",
      "vehicle.bus.rigid                     0.004484  0.000000  0.659193  0.089686   \n",
      "vehicle.car                           0.021584  0.008173  0.011316  0.747276   \n",
      "vehicle.construction                  0.201087  0.000000  0.005435  0.016304   \n",
      "vehicle.motorcycle                    0.017986  0.133094  0.000000  0.118705   \n",
      "vehicle.trailer                       0.000000  0.000000  0.000000  0.000000   \n",
      "vehicle.truck                         0.006494  0.000000  0.066558  0.282468   \n",
      "\n",
      "                                      construction_vehicle  motorcycle  \\\n",
      "human.pedestrian.adult                            0.004580    0.010687   \n",
      "human.pedestrian.construction_worker              0.002928    0.002928   \n",
      "human.pedestrian.personal_mobility                0.000000    0.000000   \n",
      "human.pedestrian.police_officer                   0.000000    0.100000   \n",
      "movable_object.barrier                            0.009859    0.004577   \n",
      "movable_object.debris                             0.000000    0.000000   \n",
      "movable_object.pushable_pullable                  0.000000    0.000000   \n",
      "movable_object.trafficcone                        0.005020    0.005856   \n",
      "vehicle.bicycle                                   0.036885    0.012295   \n",
      "vehicle.bus.bendy                                 0.072727    0.000000   \n",
      "vehicle.bus.rigid                                 0.040359    0.000000   \n",
      "vehicle.car                                       0.011106    0.018441   \n",
      "vehicle.construction                              0.690217    0.010870   \n",
      "vehicle.motorcycle                                0.003597    0.525180   \n",
      "vehicle.trailer                                   0.000000    0.000000   \n",
      "vehicle.truck                                     0.011364    0.001623   \n",
      "\n",
      "                                      pedestrian  traffic_cone   trailer  \\\n",
      "human.pedestrian.adult                  0.891048      0.017627  0.001804   \n",
      "human.pedestrian.construction_worker    0.421669      0.077599  0.000000   \n",
      "human.pedestrian.personal_mobility      0.666667      0.051282  0.000000   \n",
      "human.pedestrian.police_officer         0.900000      0.000000  0.000000   \n",
      "movable_object.barrier                  0.037324      0.120775  0.002641   \n",
      "movable_object.debris                   0.000000      0.666667  0.000000   \n",
      "movable_object.pushable_pullable        0.731707      0.073171  0.000000   \n",
      "movable_object.trafficcone              0.030117      0.689905  0.005020   \n",
      "vehicle.bicycle                         0.264344      0.043033  0.000000   \n",
      "vehicle.bus.bendy                       0.000000      0.000000  0.018182   \n",
      "vehicle.bus.rigid                       0.000000      0.000000  0.026906   \n",
      "vehicle.car                             0.002724      0.013412  0.003143   \n",
      "vehicle.construction                    0.016304      0.027174  0.027174   \n",
      "vehicle.motorcycle                      0.143885      0.046763  0.000000   \n",
      "vehicle.trailer                         0.000000      0.000000  1.000000   \n",
      "vehicle.truck                           0.004870      0.000000  0.035714   \n",
      "\n",
      "                                         truck  \n",
      "human.pedestrian.adult                0.004025  \n",
      "human.pedestrian.construction_worker  0.007321  \n",
      "human.pedestrian.personal_mobility    0.000000  \n",
      "human.pedestrian.police_officer       0.000000  \n",
      "movable_object.barrier                0.004577  \n",
      "movable_object.debris                 0.000000  \n",
      "movable_object.pushable_pullable      0.000000  \n",
      "movable_object.trafficcone            0.001673  \n",
      "vehicle.bicycle                       0.026639  \n",
      "vehicle.bus.bendy                     0.163636  \n",
      "vehicle.bus.rigid                     0.179372  \n",
      "vehicle.car                           0.162825  \n",
      "vehicle.construction                  0.005435  \n",
      "vehicle.motorcycle                    0.010791  \n",
      "vehicle.trailer                       0.000000  \n",
      "vehicle.truck                         0.590909  \n"
     ]
    }
   ],
   "source": [
    "p_label_class_df = raw_conf_df.div(raw_conf_df.sum(axis=1),axis=0)\n",
    "print(p_label_class_df)"
   ]
  },
  {
   "cell_type": "markdown",
   "id": "3f59b627-9139-40aa-94d9-1fa1c04547f0",
   "metadata": {},
   "source": [
    "## p(pos_z|pos_x)"
   ]
  },
  {
   "cell_type": "code",
   "execution_count": 7,
   "id": "1f0be628",
   "metadata": {},
   "outputs": [
    {
     "data": {
      "image/png": "[encoded data removed]",
      "text/plain": [
       "<Figure size 640x480 with 3 Axes>"
      ]
     },
     "metadata": {},
     "output_type": "display_data"
    },
    {
     "name": "stdout",
     "output_type": "stream",
     "text": [
      "0.002624280832065991\n",
      "0.49218989789630435\n",
      "0.020628265121265518\n",
      "0.5287559327750198\n",
      "0.010083883428197986\n",
      "0.04159826069849194\n"
     ]
    }
   ],
   "source": [
    "# Compute sensor position variance\n",
    "delta_x = match_df['ann_px'] - match_df['det_px']\n",
    "delta_y = match_df['ann_py'] - match_df['det_py']\n",
    "delta_z = match_df['ann_pz'] - match_df['det_pz']\n",
    "\n",
    "\n",
    "plt.figure(1)\n",
    "plt.subplot(311)\n",
    "plt.hist(delta_x.astype(np.float64),100)\n",
    "plt.subplot(312)\n",
    "plt.hist(delta_y.astype(np.float64),100)\n",
    "plt.subplot(313)\n",
    "plt.hist(delta_z.astype(np.float64),100)\n",
    "plt.show()\n",
    "\n",
    "print(np.mean(delta_x))\n",
    "print(np.var(delta_x))\n",
    "print(np.mean(delta_y))\n",
    "print(np.var(delta_y))\n",
    "print(np.mean(delta_z))\n",
    "print(np.var(delta_z))"
   ]
  },
  {
   "cell_type": "code",
   "execution_count": 8,
   "id": "fbe83cc2",
   "metadata": {},
   "outputs": [
    {
     "data": {
      "image/png": "[encoded data removed]",
      "text/plain": [
       "<Figure size 640x480 with 3 Axes>"
      ]
     },
     "metadata": {},
     "output_type": "display_data"
    },
    {
     "name": "stdout",
     "output_type": "stream",
     "text": [
      "-0.05431638457956093\n",
      "1.087373253252593\n",
      "-0.011076922825950889\n",
      "0.3197079380069313\n",
      "-0.015352861276404168\n",
      "0.10313720817741763\n"
     ]
    }
   ],
   "source": [
    "# Compute sensor size variance\n",
    "delta_sx = match_df['ann_sx'] - match_df['det_sx']\n",
    "delta_sy = match_df['ann_sy'] - match_df['det_sy']\n",
    "delta_sz = match_df['ann_sz'] - match_df['det_sz']\n",
    "\n",
    "plt.figure(2)\n",
    "plt.subplot(311)\n",
    "plt.hist(delta_sx.astype(np.float64),100)\n",
    "plt.subplot(312)\n",
    "plt.hist(delta_sy.astype(np.float64),100)\n",
    "plt.subplot(313)\n",
    "plt.hist(delta_sz.astype(np.float64),100)\n",
    "plt.show()\n",
    "\n",
    "print(np.mean(delta_sx))\n",
    "print(np.var(delta_sx))\n",
    "print(np.mean(delta_sy))\n",
    "print(np.var(delta_sy))\n",
    "print(np.mean(delta_sz))\n",
    "print(np.var(delta_sz))"
   ]
  },
  {
   "cell_type": "markdown",
   "id": "5fdaaacb-af39-4dd1-9ed0-d30fc04f08a5",
   "metadata": {},
   "source": [
    "# Compute false det likelihood p(match|conf)"
   ]
  },
  {
   "cell_type": "code",
   "execution_count": 27,
   "id": "3073788a",
   "metadata": {},
   "outputs": [
    {
     "data": {
      "image/png": "[encoded data removed]",
      "text/plain": [
       "<Figure size 640x480 with 1 Axes>"
      ]
     },
     "metadata": {},
     "output_type": "display_data"
    },
    {
     "name": "stdout",
     "output_type": "stream",
     "text": [
      "(array([10314,  1797,   484,   177,    69,    26,    11,     3,     1]), array([0.1, 0.2, 0.3, 0.4, 0.5, 0.6, 0.7, 0.8, 0.9, 1. ]))\n",
      "(array([7832, 4657, 4264, 2588, 1419,  845,  633,  914,  851]), array([0.1, 0.2, 0.3, 0.4, 0.5, 0.6, 0.7, 0.8, 0.9, 1. ]))\n"
     ]
    }
   ],
   "source": [
    "# Examine distributions of match candidates vs. non-matches\n",
    "plt.hist(match_df['det_conf'].astype(np.float64),11)\n",
    "plt.hist(unmatched_det_df['det_conf'].astype(np.float64),11)\n",
    "plt.show()\n",
    "\n",
    "mu_unmatch = np.mean(unmatched_det_df['det_conf'].astype(np.float64))\n",
    "sigma_unmatch = np.var(unmatched_det_df['det_conf'].astype(np.float64))\n",
    "mu_match = np.mean(match_df['det_conf'].astype(np.float64))\n",
    "sigma_match = np.var(match_df['det_conf'].astype(np.float64))\n",
    "\n",
    "unmatch_hist = np.histogram(unmatched_det_df['det_conf'].astype(np.float64), bins=bins)\n",
    "match_hist = np.histogram(match_df['det_conf'].astype(np.float64), bins=bins)\n",
    "print(unmatch_hist)\n",
    "print(match_hist)\n"
   ]
  },
  {
   "cell_type": "code",
   "execution_count": 26,
   "id": "fe1e715b-418e-4e5a-9532-81fa0e98c4c8",
   "metadata": {},
   "outputs": [
    {
     "name": "stdout",
     "output_type": "stream",
     "text": [
      "[0.1 0.2 0.3 0.4 0.5 0.6 0.7 0.8 0.9 1. ]\n",
      "['barrier', 'bicycle', 'bus', 'car', 'construction_vehicle', 'motorcycle', 'pedestrian', 'traffic_cone', 'trailer', 'truck']\n",
      "barrier\n",
      "(array([907, 210,  74,  28,   5,   1,   1,   0,   0]), array([0.1, 0.2, 0.3, 0.4, 0.5, 0.6, 0.7, 0.8, 0.9, 1. ]))\n",
      "(array([2423, 1415, 1210,  611,  221,   76,    8,    2,    0]), array([0.1, 0.2, 0.3, 0.4, 0.5, 0.6, 0.7, 0.8, 0.9, 1. ]))\n"
     ]
    },
    {
     "data": {
      "image/png": "[encoded data removed]",
      "text/plain": [
       "<Figure size 640x480 with 1 Axes>"
      ]
     },
     "metadata": {},
     "output_type": "display_data"
    },
    {
     "name": "stdout",
     "output_type": "stream",
     "text": [
      "bicycle\n",
      "(array([989, 114,  32,   9,   3,   0,   0,   0,   0]), array([0.1, 0.2, 0.3, 0.4, 0.5, 0.6, 0.7, 0.8, 0.9, 1. ]))\n",
      "(array([435, 140,  85,  45,  17,  20,   6,   0,   0]), array([0.1, 0.2, 0.3, 0.4, 0.5, 0.6, 0.7, 0.8, 0.9, 1. ]))\n"
     ]
    },
    {
     "data": {
      "image/png": "[encoded data removed]",
      "text/plain": [
       "<Figure size 640x480 with 1 Axes>"
      ]
     },
     "metadata": {},
     "output_type": "display_data"
    },
    {
     "name": "stdout",
     "output_type": "stream",
     "text": [
      "bus\n",
      "(array([436,  75,  25,   9,   3,   2,   0,   0,   0]), array([0.1, 0.2, 0.3, 0.4, 0.5, 0.6, 0.7, 0.8, 0.9, 1. ]))\n",
      "(array([ 59,  54,  15,   7,  10,   9,  10,  24, 107]), array([0.1, 0.2, 0.3, 0.4, 0.5, 0.6, 0.7, 0.8, 0.9, 1. ]))\n"
     ]
    },
    {
     "data": {
      "image/png": "[encoded data removed]",
      "text/plain": [
       "<Figure size 640x480 with 1 Axes>"
      ]
     },
     "metadata": {},
     "output_type": "display_data"
    },
    {
     "name": "stdout",
     "output_type": "stream",
     "text": [
      "car\n",
      "(array([2332,  481,  157,   59,   36,   14,    8,    3,    0]), array([0.1, 0.2, 0.3, 0.4, 0.5, 0.6, 0.7, 0.8, 0.9, 1. ]))\n",
      "(array([606, 339, 335, 337, 303, 408, 456, 784, 505]), array([0.1, 0.2, 0.3, 0.4, 0.5, 0.6, 0.7, 0.8, 0.9, 1. ]))\n"
     ]
    },
    {
     "data": {
      "image/png": "[encoded data removed]",
      "text/plain": [
       "<Figure size 640x480 with 1 Axes>"
      ]
     },
     "metadata": {},
     "output_type": "display_data"
    },
    {
     "name": "stdout",
     "output_type": "stream",
     "text": [
      "construction_vehicle\n",
      "(array([787,  99,  26,  17,   7,   3,   0,   0,   0]), array([0.1, 0.2, 0.3, 0.4, 0.5, 0.6, 0.7, 0.8, 0.9, 1. ]))\n",
      "(array([150,  30,   6,   2,   3,   1,   5,  27, 104]), array([0.1, 0.2, 0.3, 0.4, 0.5, 0.6, 0.7, 0.8, 0.9, 1. ]))\n"
     ]
    },
    {
     "data": {
      "image/png": "[encoded data removed]",
      "text/plain": [
       "<Figure size 640x480 with 1 Axes>"
      ]
     },
     "metadata": {},
     "output_type": "display_data"
    },
    {
     "name": "stdout",
     "output_type": "stream",
     "text": [
      "motorcycle\n",
      "(array([840, 111,  25,  13,   3,   0,   2,   0,   1]), array([0.1, 0.2, 0.3, 0.4, 0.5, 0.6, 0.7, 0.8, 0.9, 1. ]))\n",
      "(array([211,  40,  31,  23,  12,  14,  12,  12,  15]), array([0.1, 0.2, 0.3, 0.4, 0.5, 0.6, 0.7, 0.8, 0.9, 1. ]))\n"
     ]
    },
    {
     "data": {
      "image/png": "[encoded data removed]",
      "text/plain": [
       "<Figure size 640x480 with 1 Axes>"
      ]
     },
     "metadata": {},
     "output_type": "display_data"
    },
    {
     "name": "stdout",
     "output_type": "stream",
     "text": [
      "pedestrian\n",
      "(array([1047,  218,   54,   10,    4,    1,    0,    0,    0]), array([0.1, 0.2, 0.3, 0.4, 0.5, 0.6, 0.7, 0.8, 0.9, 1. ]))\n",
      "(array([1648, 1814, 2016, 1101,  573,  163,   26,    0,    0]), array([0.1, 0.2, 0.3, 0.4, 0.5, 0.6, 0.7, 0.8, 0.9, 1. ]))\n"
     ]
    },
    {
     "data": {
      "image/png": "[encoded data removed]",
      "text/plain": [
       "<Figure size 640x480 with 1 Axes>"
      ]
     },
     "metadata": {},
     "output_type": "display_data"
    },
    {
     "name": "stdout",
     "output_type": "stream",
     "text": [
      "traffic_cone\n",
      "(array([805, 138,  37,   8,   0,   0,   0,   0,   0]), array([0.1, 0.2, 0.3, 0.4, 0.5, 0.6, 0.7, 0.8, 0.9, 1. ]))\n",
      "(array([1542,  659,  478,  404,  211,  106,   44,   12,    0]), array([0.1, 0.2, 0.3, 0.4, 0.5, 0.6, 0.7, 0.8, 0.9, 1. ]))\n"
     ]
    },
    {
     "data": {
      "image/png": "[encoded data removed]",
      "text/plain": [
       "<Figure size 640x480 with 1 Axes>"
      ]
     },
     "metadata": {},
     "output_type": "display_data"
    },
    {
     "name": "stdout",
     "output_type": "stream",
     "text": [
      "trailer\n",
      "(array([1162,  184,   30,   15,    3,    1,    0,    0,    0]), array([0.1, 0.2, 0.3, 0.4, 0.5, 0.6, 0.7, 0.8, 0.9, 1. ]))\n",
      "(array([88, 15,  7,  0,  1,  0,  1,  2, 39]), array([0.1, 0.2, 0.3, 0.4, 0.5, 0.6, 0.7, 0.8, 0.9, 1. ]))\n"
     ]
    },
    {
     "data": {
      "image/png": "[encoded data removed]",
      "text/plain": [
       "<Figure size 640x480 with 1 Axes>"
      ]
     },
     "metadata": {},
     "output_type": "display_data"
    },
    {
     "name": "stdout",
     "output_type": "stream",
     "text": [
      "truck\n",
      "(array([1009,  167,   24,    9,    5,    4,    0,    0,    0]), array([0.1, 0.2, 0.3, 0.4, 0.5, 0.6, 0.7, 0.8, 0.9, 1. ]))\n",
      "(array([670, 151,  81,  58,  68,  48,  65,  51,  81]), array([0.1, 0.2, 0.3, 0.4, 0.5, 0.6, 0.7, 0.8, 0.9, 1. ]))\n"
     ]
    },
    {
     "data": {
      "image/png": "[encoded data removed]",
      "text/plain": [
       "<Figure size 640x480 with 1 Axes>"
      ]
     },
     "metadata": {},
     "output_type": "display_data"
    }
   ],
   "source": [
    "min = 0.1\n",
    "max = 1.\n",
    "n_bins = 10\n",
    "bins = np.linspace(min, max, n_bins, dtype=float)\n",
    "print(bins)\n",
    "\n",
    "det_classes = list(unmatched_det_df['det_lbl'].unique())\n",
    "det_classes.sort()\n",
    "\n",
    "print(det_classes)\n",
    "\n",
    "for det in det_classes:\n",
    "    m_df = match_df.loc[match_df['det_lbl']==det]\n",
    "    u_df = unmatched_det_df.loc[unmatched_det_df['det_lbl']==det]\n",
    "    print(det)\n",
    "    \n",
    "    unmatch_hist = np.histogram(u_df['det_conf'].astype(np.float64), bins=bins)\n",
    "    match_hist = np.histogram(m_df['det_conf'].astype(np.float64), bins=bins)\n",
    "    print(unmatch_hist)\n",
    "    print(match_hist)\n",
    "    \n",
    "    plt.hist(m_df['det_conf'].astype(np.float64),bins=bins)\n",
    "    plt.hist(u_df['det_conf'].astype(np.float64),bins=bins)\n",
    "    plt.show()\n"
   ]
  },
  {
   "cell_type": "code",
   "execution_count": 25,
   "id": "77ffa5d2-9db1-41da-82bc-c305f2d16490",
   "metadata": {},
   "outputs": [
    {
     "name": "stdout",
     "output_type": "stream",
     "text": [
      "[0.1 0.2 0.3 0.4 0.5 0.6 0.7 0.8 0.9 1. ]\n",
      "(array([10314,  1797,   484,   177,    69,    26,    11,     3,     1]), array([0.1, 0.2, 0.3, 0.4, 0.5, 0.6, 0.7, 0.8, 0.9, 1. ]))\n",
      "(array([7832, 4657, 4264, 2588, 1419,  845,  633,  914,  851]), array([0.1, 0.2, 0.3, 0.4, 0.5, 0.6, 0.7, 0.8, 0.9, 1. ]))\n",
      "9\n",
      "9\n",
      "1\n",
      "851\n"
     ]
    }
   ],
   "source": [
    "\n",
    "\n",
    "\n",
    "unmatch_hist = np.histogram(unmatched_det_df['det_conf'].astype(np.float64), bins=bins)\n",
    "match_hist = np.histogram(match_df['det_conf'].astype(np.float64), bins=bins)\n",
    "\n",
    "print(unmatch_hist)\n",
    "print(match_hist)\n",
    "\n",
    "\n",
    "conf = .96\n",
    "unmatch_ind = np.searchsorted( unmatch_hist[1], conf, side='right')\n",
    "match_ind = np.searchsorted(match_hist[1], conf, side='right')\n",
    "\n",
    "print(unmatch_ind)\n",
    "print(match_ind)\n",
    "\n",
    "print(unmatch_hist[0][unmatch_ind-1])\n",
    "print(match_hist[0][match_ind-1])"
   ]
  },
  {
   "cell_type": "code",
   "execution_count": null,
   "id": "f48ed061",
   "metadata": {},
   "outputs": [],
   "source": []
  },
  {
   "cell_type": "code",
   "execution_count": 6,
   "id": "8432d2d8",
   "metadata": {},
   "outputs": [
    {
     "name": "stdout",
     "output_type": "stream",
     "text": [
      "(11608, 15)\n",
      "(15917, 8)\n",
      "(2416, 7)\n"
     ]
    }
   ],
   "source": [
    "print(match_df.shape)\n",
    "print(unmatched_det_df.shape)\n",
    "print(unmatched_trk_df.shape)"
   ]
  },
  {
   "cell_type": "code",
   "execution_count": 7,
   "id": "e191716a",
   "metadata": {},
   "outputs": [
    {
     "data": {
      "image/png": "[encoded data removed]",
      "text/plain": [
       "<Figure size 432x288 with 1 Axes>"
      ]
     },
     "metadata": {},
     "output_type": "display_data"
    },
    {
     "name": "stdout",
     "output_type": "stream",
     "text": [
      "0.02434939557586046\n",
      "1.4392160083787156\n",
      "-0.027295775430214077\n",
      "1.320857552431175\n",
      "-0.0029345892153881466\n",
      "0.07043345574085993\n"
     ]
    }
   ],
   "source": [
    "delta_x = match_df['ann_px'] - match_df['det_px']\n",
    "delta_y = match_df['ann_py'] - match_df['det_py']\n",
    "delta_z = match_df['ann_pz'] - match_df['det_pz']\n",
    "\n",
    "plt.hist(delta_x.astype(np.float64),100)\n",
    "plt.hist(delta_y.astype(np.float64),100)\n",
    "plt.hist(delta_z.astype(np.float64),100)\n",
    "plt.show()\n",
    "\n",
    "print(np.mean(delta_x))\n",
    "print(np.var(delta_x))\n",
    "print(np.mean(delta_y))\n",
    "print(np.var(delta_y))\n",
    "print(np.mean(delta_z))\n",
    "print(np.var(delta_z))"
   ]
  },
  {
   "cell_type": "code",
   "execution_count": 8,
   "id": "58902656",
   "metadata": {},
   "outputs": [
    {
     "data": {
      "image/png": "[encoded data removed]",
      "text/plain": [
       "<Figure size 432x288 with 1 Axes>"
      ]
     },
     "metadata": {},
     "output_type": "display_data"
    }
   ],
   "source": [
    "delta_sx = match_df['ann_sx'] - match_df['det_sx']\n",
    "delta_sy = match_df['ann_sy'] - match_df['det_sy']\n",
    "delta_sz = match_df['ann_sz'] - match_df['det_sz']\n",
    "\n",
    "plt.hist(delta_sx.astype(np.float64),100)\n",
    "plt.hist(delta_sy.astype(np.float64),100)\n",
    "plt.hist(delta_sz.astype(np.float64),100)\n",
    "plt.show()"
   ]
  },
  {
   "cell_type": "code",
   "execution_count": 10,
   "id": "74d7217e",
   "metadata": {},
   "outputs": [
    {
     "data": {
      "image/png": "[encoded data removed]",
      "text/plain": [
       "<Figure size 432x288 with 1 Axes>"
      ]
     },
     "metadata": {},
     "output_type": "display_data"
    },
    {
     "name": "stdout",
     "output_type": "stream",
     "text": [
      "0.16515561904396148\n",
      "0.006610592494992953\n",
      "0.4369561585702315\n",
      "0.06404195386146624\n",
      "0.0066324876037182475\n",
      "0.047494622262219725\n",
      "Discrete Prior\n",
      " P( 0 ):\n",
      " Choice(0) \n",
      " 0 Leaf 0.12253541\n",
      " 1 Leaf 0.87746459\n",
      "\n",
      "\n"
     ]
    }
   ],
   "source": [
    "# plt.hist(delta_x,100)\n",
    "# plt.hist(delta_y,100)\n",
    "plt.hist(match_df['det_conf'].astype(np.float64))\n",
    "plt.hist(unmatched_det_df['det_conf'].astype(np.float64))\n",
    "plt.show()\n",
    "\n",
    "mu_unmatch = np.mean(unmatched_det_df['det_conf'].astype(np.float64))\n",
    "sigma_unmatch = np.var(unmatched_det_df['det_conf'].astype(np.float64))\n",
    "mu_match = np.mean(match_df['det_conf'].astype(np.float64))\n",
    "sigma_match = np.var(match_df['det_conf'].astype(np.float64))\n",
    "\n",
    "print(mu_unmatch)\n",
    "print(sigma_unmatch)\n",
    "print(mu_match)\n",
    "print(sigma_match)\n",
    "\n",
    "x = .2\n",
    "likelihood_match = np.exp(-(x - mu_match)**2/(2*sigma_match**2))/(np.sqrt(2*np.pi)*sigma_match)\n",
    "likelihood_unmatch = np.exp(-(x)**2/(2*sigma_match**2))/(np.sqrt(2*np.pi)*sigma_match)\n",
    "print(likelihood_match)\n",
    "print(likelihood_unmatch)\n",
    "\n",
    "p_track = gtsam.DiscreteDistribution([0,2], [likelihood_match, likelihood_unmatch])\n",
    "print(p_track)"
   ]
  },
  {
   "cell_type": "code",
   "execution_count": 11,
   "id": "ef613164",
   "metadata": {},
   "outputs": [
    {
     "name": "stdout",
     "output_type": "stream",
     "text": [
      "['false_det', 'bicycle', 'bus', 'car', 'motorcycle', 'pedestrian', 'trailer', 'truck', 'void_ignore']\n",
      "['missed_det', 'barrier', 'bicycle', 'bus', 'car', 'construction_vehicle', 'motorcycle', 'pedestrian', 'traffic_cone', 'trailer', 'truck']\n"
     ]
    }
   ],
   "source": [
    "# Form confusion matrix / class-det table\n",
    "det_classes = list(match_df['det_lbl'].unique())\n",
    "det_classes.sort()\n",
    "det_classes.insert(0,'missed_det')\n",
    "ann_classes = list(match_df['ann_lbl'].unique())\n",
    "ann_classes.sort()\n",
    "ann_classes.insert(0,'false_det')\n",
    "\n",
    "print(ann_classes)\n",
    "print(det_classes)"
   ]
  },
  {
   "cell_type": "code",
   "execution_count": 18,
   "id": "789d306c",
   "metadata": {},
   "outputs": [
    {
     "name": "stdout",
     "output_type": "stream",
     "text": [
      "             missed_det  barrier  bicycle    bus     car  \\\n",
      "false_det           0.0   1978.0   1348.0  618.0  3350.0   \n",
      "bicycle            17.0      9.0    112.0    1.0    12.0   \n",
      "bus               144.0      0.0      0.0  176.0     8.0   \n",
      "car              1215.0     36.0     15.0   24.0  3403.0   \n",
      "motorcycle         29.0      4.0     35.0    1.0     5.0   \n",
      "pedestrian        482.0     68.0     69.0    9.0    54.0   \n",
      "trailer             9.0      0.0      0.0    0.0     0.0   \n",
      "truck             104.0      6.0      0.0    5.0   103.0   \n",
      "void_ignore       416.0   1978.0     38.0    8.0    85.0   \n",
      "\n",
      "             construction_vehicle  motorcycle  pedestrian  traffic_cone  \\\n",
      "false_det                   979.0      1099.0      1856.0        1442.0   \n",
      "bicycle                       0.0         7.0        23.0           0.0   \n",
      "bus                           4.0         0.0         0.0           0.0   \n",
      "car                          27.0        45.0        20.0          13.0   \n",
      "motorcycle                    0.0       126.0        10.0           1.0   \n",
      "pedestrian                   14.0        27.0      2867.0          32.0   \n",
      "trailer                       0.0         0.0         0.0           0.0   \n",
      "truck                         6.0         0.0         4.0           0.0   \n",
      "void_ignore                 168.0        24.0        82.0        1110.0   \n",
      "\n",
      "             trailer   truck  \n",
      "false_det     1409.0  1838.0  \n",
      "bicycle          2.0     8.0  \n",
      "bus              6.0    31.0  \n",
      "car             14.0   239.0  \n",
      "motorcycle       1.0     0.0  \n",
      "pedestrian      14.0    21.0  \n",
      "trailer         50.0     1.0  \n",
      "truck            3.0   294.0  \n",
      "void_ignore     33.0    17.0  \n"
     ]
    }
   ],
   "source": [
    "raw_conf_df = pd.DataFrame(np.zeros((len(ann_classes),len(det_classes))), columns = det_classes, index=ann_classes,dtype=np.float64)\n",
    "\n",
    "for index,row in match_df.iterrows():\n",
    "    raw_conf_df[row['det_lbl']][row['ann_lbl']] +=1\n",
    "    \n",
    "# Treat unmatched dets as false det classs\n",
    "for index,row in unmatched_det_df.iterrows():\n",
    "    raw_conf_df[row['det_lbl']]['false_det'] +=1\n",
    "\n",
    "# Treat unmatched tracks as missed dets\n",
    "for index,row in unmatched_trk_df.iterrows():\n",
    "    raw_conf_df['missed_det'][row['ann_lbl']] +=1\n",
    "\n",
    "print(raw_conf_df)"
   ]
  },
  {
   "cell_type": "code",
   "execution_count": 19,
   "id": "c3ebb5cc",
   "metadata": {},
   "outputs": [
    {
     "name": "stdout",
     "output_type": "stream",
     "text": [
      "             missed_det   barrier   bicycle       bus       car  \\\n",
      "false_det      0.000000  0.124270  0.084689  0.038826  0.210467   \n",
      "bicycle        0.089005  0.047120  0.586387  0.005236  0.062827   \n",
      "bus            0.390244  0.000000  0.000000  0.476965  0.021680   \n",
      "car            0.240546  0.007127  0.002970  0.004752  0.673728   \n",
      "motorcycle     0.136792  0.018868  0.165094  0.004717  0.023585   \n",
      "pedestrian     0.131802  0.018594  0.018868  0.002461  0.014766   \n",
      "trailer        0.150000  0.000000  0.000000  0.000000  0.000000   \n",
      "truck          0.198095  0.011429  0.000000  0.009524  0.196190   \n",
      "void_ignore    0.105077  0.499621  0.009598  0.002021  0.021470   \n",
      "\n",
      "             construction_vehicle  motorcycle  pedestrian  traffic_cone  \\\n",
      "false_det                0.061507    0.069046    0.116605      0.090595   \n",
      "bicycle                  0.000000    0.036649    0.120419      0.000000   \n",
      "bus                      0.010840    0.000000    0.000000      0.000000   \n",
      "car                      0.005345    0.008909    0.003960      0.002574   \n",
      "motorcycle               0.000000    0.594340    0.047170      0.004717   \n",
      "pedestrian               0.003828    0.007383    0.783976      0.008750   \n",
      "trailer                  0.000000    0.000000    0.000000      0.000000   \n",
      "truck                    0.011429    0.000000    0.007619      0.000000   \n",
      "void_ignore              0.042435    0.006062    0.020712      0.280374   \n",
      "\n",
      "              trailer     truck  \n",
      "false_det    0.088522  0.115474  \n",
      "bicycle      0.010471  0.041885  \n",
      "bus          0.016260  0.084011  \n",
      "car          0.002772  0.047317  \n",
      "motorcycle   0.004717  0.000000  \n",
      "pedestrian   0.003828  0.005742  \n",
      "trailer      0.833333  0.016667  \n",
      "truck        0.005714  0.560000  \n",
      "void_ignore  0.008335  0.004294  \n"
     ]
    }
   ],
   "source": [
    "missed_det_df = raw_conf_df.div(raw_conf_df.sum(axis=1),axis=0)\n",
    "print(missed_det_df)"
   ]
  },
  {
   "cell_type": "code",
   "execution_count": 21,
   "id": "85b2457b-994e-4b4b-be2b-1ece770dfe13",
   "metadata": {},
   "outputs": [
    {
     "name": "stdout",
     "output_type": "stream",
     "text": [
      "             missed_det   barrier   bicycle       bus       car  \\\n",
      "false_det      0.000000  0.484923  0.833643  0.733967  0.477208   \n",
      "bicycle        0.007036  0.002206  0.069264  0.001188  0.001709   \n",
      "bus            0.059603  0.000000  0.000000  0.209026  0.001140   \n",
      "car            0.502897  0.008826  0.009276  0.028504  0.484758   \n",
      "motorcycle     0.012003  0.000981  0.021645  0.001188  0.000712   \n",
      "pedestrian     0.199503  0.016671  0.042672  0.010689  0.007692   \n",
      "trailer        0.003725  0.000000  0.000000  0.000000  0.000000   \n",
      "truck          0.043046  0.001471  0.000000  0.005938  0.014672   \n",
      "void_ignore    0.172185  0.484923  0.023500  0.009501  0.012108   \n",
      "\n",
      "             construction_vehicle  motorcycle  pedestrian  traffic_cone  \\\n",
      "false_det                0.817195    0.827560    0.381736      0.555042   \n",
      "bicycle                  0.000000    0.005271    0.004731      0.000000   \n",
      "bus                      0.003339    0.000000    0.000000      0.000000   \n",
      "car                      0.022538    0.033886    0.004114      0.005004   \n",
      "motorcycle               0.000000    0.094880    0.002057      0.000385   \n",
      "pedestrian               0.011686    0.020331    0.589675      0.012317   \n",
      "trailer                  0.000000    0.000000    0.000000      0.000000   \n",
      "truck                    0.005008    0.000000    0.000823      0.000000   \n",
      "void_ignore              0.140234    0.018072    0.016865      0.427252   \n",
      "\n",
      "              trailer     truck  \n",
      "false_det    0.919713  0.750510  \n",
      "bicycle      0.001305  0.003267  \n",
      "bus          0.003916  0.012658  \n",
      "car          0.009138  0.097591  \n",
      "motorcycle   0.000653  0.000000  \n",
      "pedestrian   0.009138  0.008575  \n",
      "trailer      0.032637  0.000408  \n",
      "truck        0.001958  0.120049  \n",
      "void_ignore  0.021540  0.006942  \n"
     ]
    }
   ],
   "source": [
    "false_det_df = raw_conf_df.div(raw_conf_df.sum(axis=0),axis=1)\n",
    "print(false_det_df)"
   ]
  },
  {
   "cell_type": "markdown",
   "id": "896e013d",
   "metadata": {},
   "source": [
    "# Now, test out using existence probability dist instead of false_det class"
   ]
  },
  {
   "cell_type": "code",
   "execution_count": 2,
   "id": "1d86358c",
   "metadata": {},
   "outputs": [
    {
     "ename": "NameError",
     "evalue": "name 'conf_df' is not defined",
     "output_type": "error",
     "traceback": [
      "\u001b[0;31m---------------------------------------------------------------------------\u001b[0m",
      "\u001b[0;31mNameError\u001b[0m                                 Traceback (most recent call last)",
      "\u001b[0;32m/tmp/ipykernel_47689/4006976189.py\u001b[0m in \u001b[0;36m<module>\u001b[0;34m\u001b[0m\n\u001b[0;32m----> 1\u001b[0;31m \u001b[0mprob_class_det\u001b[0m \u001b[0;34m=\u001b[0m \u001b[0mconf_df\u001b[0m\u001b[0;34m.\u001b[0m\u001b[0mdata\u001b[0m\u001b[0;34m\u001b[0m\u001b[0;34m\u001b[0m\u001b[0m\n\u001b[0m",
      "\u001b[0;31mNameError\u001b[0m: name 'conf_df' is not defined"
     ]
    }
   ],
   "source": [
    "prob_class_det = conf_df.data"
   ]
  },
  {
   "cell_type": "code",
   "execution_count": null,
   "id": "cb97cf4a",
   "metadata": {},
   "outputs": [],
   "source": []
  }
 ],
 "metadata": {
  "kernelspec": {
   "display_name": "Python 3 (ipykernel)",
   "language": "python",
   "name": "python3"
  },
  "language_info": {
   "codemirror_mode": {
    "name": "ipython",
    "version": 3
   },
   "file_extension": ".py",
   "mimetype": "text/x-python",
   "name": "python",
   "nbconvert_exporter": "python",
   "pygments_lexer": "ipython3",
   "version": "3.10.13"
  }
 },
 "nbformat": 4,
 "nbformat_minor": 5
}
