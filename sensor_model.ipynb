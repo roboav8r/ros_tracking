{
 "cells": [
  {
   "cell_type": "code",
   "execution_count": 41,
   "id": "097702a3",
   "metadata": {},
   "outputs": [],
   "source": [
    "import os\n",
    "import time \n",
    "import json\n",
    "\n",
    "import gtsam\n",
    "\n",
    "import pandas as pd\n",
    "import numpy as np\n",
    "from scipy.optimize import linear_sum_assignment\n",
    "from scipy.spatial import distance\n",
    "import matplotlib.pyplot as plt\n",
    "\n",
    "from nuscenes.can_bus.can_bus_api import NuScenesCanBus\n",
    "from nuscenes.eval.common.utils import quaternion_yaw\n",
    "from nuscenes.map_expansion.map_api import NuScenesMap\n",
    "from nuscenes.nuscenes import NuScenes\n",
    "import nuscenes.utils.splits as nuscenes_splits\n",
    "\n",
    "import rosbag2_py\n",
    "from rosidl_runtime_py.utilities import get_message\n",
    "from rclpy.serialization import deserialize_message"
   ]
  },
  {
   "cell_type": "code",
   "execution_count": 2,
   "id": "24f25c17",
   "metadata": {},
   "outputs": [
    {
     "name": "stdout",
     "output_type": "stream",
     "text": [
      "[[1 0 0]\n",
      " [0 1 0]\n",
      " [0 0 1]]\n",
      "[[1. 0. 0.]\n",
      " [0. 1. 0.]\n",
      " [0. 0. 1.]]\n"
     ]
    }
   ],
   "source": [
    "# Declare parameters\n",
    "nuscenes_dir = '/home/jd/nuScenes/data'\n",
    "mcap_dir = '/home/jd/nuscenes2mcap/mcap'\n",
    "results_dir = '/home/jd/tracking_ws/src/ros_tracking/results'\n",
    "# dataset_name: 'v1.0-mini'\n",
    "split_name = 'mini_train'\n",
    "lidar_detector = 'megvii'\n",
    "ann_topic = '/annotations'\n",
    "det_topic = '/detections'\n",
    "\n",
    "# Weights?\n",
    "asgn_thresh = 10.0\n",
    "\n",
    "# Initial spatial covariance\n",
    "pos_sigma = np.array([1, 1, 1])\n",
    "pos_cov = np.diag(pos_sigma**2)\n",
    "pos_cov_inv = np.linalg.inv(pos_cov)\n",
    "print(pos_cov)\n",
    "print(pos_cov_inv)"
   ]
  },
  {
   "cell_type": "code",
   "execution_count": 3,
   "id": "afdbbcc2",
   "metadata": {},
   "outputs": [],
   "source": [
    "# Create ROS objects\n",
    "reader = rosbag2_py.SequentialReader()"
   ]
  },
  {
   "cell_type": "code",
   "execution_count": 4,
   "id": "d974bd61",
   "metadata": {},
   "outputs": [],
   "source": [
    "# Member variables\n",
    "lidar_det_string = \"-\" + lidar_detector if lidar_detector else \"\"\n",
    "match_cols = ['ann_px','ann_py','ann_pz','ann_sx','ann_sy','ann_sz','ann_lbl',\n",
    "              'det_px','det_py','det_pz','det_sx','det_sy','det_sz','det_lbl','det_conf']\n",
    "\n",
    "unmatch_trk_cols = ['ann_px','ann_py','ann_pz','ann_sx','ann_sy','ann_sz','ann_lbl']\n",
    "unmatch_det_cols = ['det_px','det_py','det_pz','det_sx','det_sy','det_sz','det_lbl','det_conf']\n",
    "\n",
    "\n",
    "# Remap nuScenes class -> tracking class (See https://www.nuscenes.org/tracking/ classes)\n",
    "tracking_class_map = {\"animal\": \"void_ignore\",\n",
    "                      \"human.pedestrian.personal_mobility\": \"void_ignore\",\n",
    "                     \"human.pedestrian.stroller\": \"void_ignore\",\n",
    "                     \"human.pedestrian.wheelchair\": \"void_ignore\",\n",
    "                     \"movable_object.barrier\": \"void_ignore\",\n",
    "                     \"movable_object.debris\": \"void_ignore\",\n",
    "                     \"movable_object.pushable_pullable\": \"void_ignore\",\n",
    "                     \"movable_object.trafficcone\": \"void_ignore\",\n",
    "                     \"static_object.bicycle_rack\": \"void_ignore\",\n",
    "                     \"vehicle.emergency.ambulance\": \"void_ignore\",\n",
    "                     \"vehicle.emergency.police\": \"void_ignore\",\n",
    "                     \"vehicle.construction\": \"void_ignore\",\n",
    "                     \"vehicle.bicycle\": \"bicycle\",\n",
    "                     \"vehicle.bus.bendy\": \"bus\",\n",
    "                     \"vehicle.bus.rigid\": \"bus\",\n",
    "                     \"vehicle.car\": \"car\",\n",
    "                     \"vehicle.motorcycle\": \"motorcycle\",\n",
    "                     \"human.pedestrian.adult\": \"pedestrian\",\n",
    "                     \"human.pedestrian.child\": \"pedestrian\",\n",
    "                     \"human.pedestrian.construction_worker\": \"pedestrian\",\n",
    "                     \"human.pedestrian.police_officer\": \"pedestrian\",\n",
    "                     \"vehicle.trailer\": \"trailer\",\n",
    "                     \"vehicle.truck\": \"truck\"}\n",
    "\n",
    "# Dataframes\n",
    "raw_df = pd.DataFrame(columns=match_cols)\n",
    "match_df = pd.DataFrame(columns=match_cols)\n",
    "unmatched_det_df = pd.DataFrame(columns=unmatch_det_cols)\n",
    "unmatched_trk_df = pd.DataFrame(columns=unmatch_trk_cols)"
   ]
  },
  {
   "cell_type": "code",
   "execution_count": 5,
   "id": "3f7549ec",
   "metadata": {},
   "outputs": [
    {
     "name": "stdout",
     "output_type": "stream",
     "text": [
      "Processing scene scene-0061\n"
     ]
    },
    {
     "name": "stderr",
     "output_type": "stream",
     "text": [
      "/tmp/ipykernel_16147/668477487.py:101: FutureWarning: The behavior of DataFrame concatenation with empty or all-NA entries is deprecated. In a future version, this will no longer exclude empty or all-NA columns when determining the result dtypes. To retain the old behavior, exclude the relevant entries before the concat operation.\n",
      "  match_df = pd.concat([match_df,data_df], axis=0)\n",
      "/tmp/ipykernel_16147/668477487.py:116: FutureWarning: The behavior of DataFrame concatenation with empty or all-NA entries is deprecated. In a future version, this will no longer exclude empty or all-NA columns when determining the result dtypes. To retain the old behavior, exclude the relevant entries before the concat operation.\n",
      "  unmatched_trk_df = pd.concat([unmatched_trk_df,data_df], axis=0)\n",
      "/tmp/ipykernel_16147/668477487.py:132: FutureWarning: The behavior of DataFrame concatenation with empty or all-NA entries is deprecated. In a future version, this will no longer exclude empty or all-NA columns when determining the result dtypes. To retain the old behavior, exclude the relevant entries before the concat operation.\n",
      "  unmatched_det_df = pd.concat([unmatched_det_df,data_df], axis=0)\n"
     ]
    },
    {
     "name": "stdout",
     "output_type": "stream",
     "text": [
      "Processing scene scene-0553\n",
      "Processing scene scene-0655\n",
      "Processing scene scene-0757\n",
      "Processing scene scene-0796\n",
      "Processing scene scene-1077\n",
      "Processing scene scene-1094\n",
      "Processing scene scene-1100\n"
     ]
    }
   ],
   "source": [
    "# COMPUTE MATCH\n",
    "\n",
    "# Main loop - iterate through splits and mcaps\n",
    "split = eval('nuscenes_splits.' + split_name)\n",
    "\n",
    "for scene in split: # for scene in split\n",
    "    print(\"Processing scene %s\" % (scene))\n",
    "\n",
    "    # Load bag\n",
    "    storage_options = rosbag2_py.StorageOptions(\n",
    "        uri=\"%s/%s%s/%s%s_0.mcap\" % (mcap_dir, scene, lidar_det_string, scene, lidar_det_string),\n",
    "        storage_id='mcap')\n",
    "    converter_options = rosbag2_py.ConverterOptions('', '')\n",
    "    reader.open(storage_options, converter_options)\n",
    "    \n",
    "    \n",
    "    # Deal with type names\n",
    "    topic_types = reader.get_all_topics_and_types()\n",
    "\n",
    "    def typename(topic_name):\n",
    "        for topic_type in topic_types:\n",
    "            if topic_type.name == topic_name:\n",
    "                return topic_type.type\n",
    "        raise ValueError(f\"topic {topic_name} not in bag\")\n",
    " \n",
    "    got_ann = False\n",
    "    got_det = False\n",
    "    while reader.has_next():\n",
    "        \n",
    "        topic, data, timestamp = reader.read_next()\n",
    "\n",
    "        if topic==ann_topic:\n",
    "            # self.get_logger().info(\"Topic: %s\" % (topic))                  \n",
    "\n",
    "            ann_msg_type = get_message(typename(topic))\n",
    "            ann_msg = deserialize_message(data, ann_msg_type)\n",
    "            \n",
    "            got_ann = True\n",
    "        \n",
    "        if topic==det_topic:\n",
    "            # self.get_logger().info(\"Topic: %s\" % (topic))                  \n",
    "\n",
    "            det_msg_type = get_message(typename(topic))\n",
    "            det_msg = deserialize_message(data, det_msg_type)\n",
    "            \n",
    "            got_det = True\n",
    "            \n",
    "        if got_ann and got_det:\n",
    "           \n",
    "            # Compute cost matrix\n",
    "            n_dets = len(det_msg.entities)\n",
    "            n_anns = len(ann_msg.entities)\n",
    "            \n",
    "            cost_matrix = np.zeros((n_dets,n_anns))\n",
    "            for ii,det in enumerate(det_msg.entities):\n",
    "                for jj,trk in enumerate(ann_msg.entities):\n",
    "                    \n",
    "                    cost_matrix[ii,jj] = np.linalg.norm([det.cubes[0].pose.position.x - trk.cubes[0].pose.position.x,\n",
    "                                                         det.cubes[0].pose.position.y - trk.cubes[0].pose.position.y,\n",
    "                                                         det.cubes[0].pose.position.z - trk.cubes[0].pose.position.z]) - np.log(float(det.metadata[1].value))\n",
    "#                     cost_matrix[ii,jj] = distance.mahalanobis([det.cubes[0].pose.position.x, det.cubes[0].pose.position.y, det.cubes[0].pose.position.z],\n",
    "#                                                               [trk.cubes[0].pose.position.x, trk.cubes[0].pose.position.y, trk.cubes[0].pose.position.z],\n",
    "#                                                               pos_cov_inv) - np.log(float(det.metadata[1].value))\n",
    "            \n",
    "            # Solve cost matrix\n",
    "            # TODO - can reuse assignment.py here\n",
    "            det_asgn_idx, trk_asgn_idx = linear_sum_assignment(cost_matrix)\n",
    "            det_asgn_idx, trk_asgn_idx = list(det_asgn_idx), list(trk_asgn_idx)\n",
    "            \n",
    "            # If cost above threshold, remove the match from assignment vector\n",
    "            assert(len(det_asgn_idx) == len(trk_asgn_idx))\n",
    "            ii = len(det_asgn_idx)\n",
    "            while ii:\n",
    "                idx = ii-1\n",
    "                if cost_matrix[det_asgn_idx[idx],trk_asgn_idx[idx]] > asgn_thresh:\n",
    "                    del det_asgn_idx[idx], trk_asgn_idx[idx]       \n",
    "                ii -=1\n",
    "            assert(len(det_asgn_idx) == len(trk_asgn_idx))\n",
    "            \n",
    "            # Handle matches\n",
    "            for det_idx, trk_idx in zip(det_asgn_idx, trk_asgn_idx):\n",
    "                \n",
    "                # match_cols = ['ann_px','ann_py','ann_pz','ann_sx','ann_sy','ann_sz','ann_lbl',\n",
    "                # 'det_px','det_py','det_pz','det_sx','det_sy','det_sz','det_lbl','det_conf']\n",
    "                data_df = pd.DataFrame([[ann_msg.entities[trk_idx].cubes[0].pose.position.x, \n",
    "                                         ann_msg.entities[trk_idx].cubes[0].pose.position.y,\n",
    "                                         ann_msg.entities[trk_idx].cubes[0].pose.position.z,\n",
    "                                         ann_msg.entities[trk_idx].cubes[0].size.x, \n",
    "                                         ann_msg.entities[trk_idx].cubes[0].size.y,\n",
    "                                         ann_msg.entities[trk_idx].cubes[0].size.z,\n",
    "                                         tracking_class_map[ann_msg.entities[trk_idx].metadata[0].value],\n",
    "                                         det_msg.entities[det_idx].cubes[0].pose.position.x,\n",
    "                                         det_msg.entities[det_idx].cubes[0].pose.position.y,\n",
    "                                         det_msg.entities[det_idx].cubes[0].pose.position.z,\n",
    "                                         det_msg.entities[det_idx].cubes[0].size.x,\n",
    "                                         det_msg.entities[det_idx].cubes[0].size.y,\n",
    "                                         det_msg.entities[det_idx].cubes[0].size.z,\n",
    "                                         det_msg.entities[det_idx].metadata[0].value,\n",
    "                                         det_msg.entities[det_idx].metadata[1].value]], columns=match_cols)\n",
    "                \n",
    "                match_df = pd.concat([match_df,data_df], axis=0)\n",
    "\n",
    "            # Handle mismatched annotations\n",
    "            for i, trk in enumerate(ann_msg.entities):\n",
    "                if i not in trk_asgn_idx: # If track is unmatched, handle it as a missed detection\n",
    "                \n",
    "                    data_df = pd.DataFrame([[ann_msg.entities[i].cubes[0].pose.position.x, \n",
    "                                         ann_msg.entities[i].cubes[0].pose.position.y,\n",
    "                                         ann_msg.entities[i].cubes[0].pose.position.z,\n",
    "                                         ann_msg.entities[i].cubes[0].size.x, \n",
    "                                         ann_msg.entities[i].cubes[0].size.y,\n",
    "                                         ann_msg.entities[i].cubes[0].size.z,\n",
    "                                         tracking_class_map[ann_msg.entities[i].metadata[0].value]]], \n",
    "                                           columns=unmatch_trk_cols)\n",
    "                \n",
    "                    unmatched_trk_df = pd.concat([unmatched_trk_df,data_df], axis=0)\n",
    "            \n",
    "            # Handle mismatched detections\n",
    "            # If det is unmatched, handle it as a false detection\n",
    "            for i, det in enumerate(det_msg.entities):\n",
    "                if i not in det_asgn_idx: # If track is unmatched, handle it as a missed detection\n",
    "                    data_df = pd.DataFrame([[det_msg.entities[i].cubes[0].pose.position.x,\n",
    "                                         det_msg.entities[i].cubes[0].pose.position.y,\n",
    "                                         det_msg.entities[i].cubes[0].pose.position.z,\n",
    "                                         det_msg.entities[i].cubes[0].size.x,\n",
    "                                         det_msg.entities[i].cubes[0].size.y,\n",
    "                                         det_msg.entities[i].cubes[0].size.z,\n",
    "                                         det_msg.entities[i].metadata[0].value,\n",
    "                                         det_msg.entities[i].metadata[1].value]], \n",
    "                                           columns=unmatch_det_cols)\n",
    "                \n",
    "                    unmatched_det_df = pd.concat([unmatched_det_df,data_df], axis=0)\n",
    "            \n",
    "            \n",
    "            # Loop control\n",
    "            got_ann = False\n",
    "            got_det = False\n",
    "        "
   ]
  },
  {
   "cell_type": "code",
   "execution_count": 6,
   "id": "8432d2d8",
   "metadata": {},
   "outputs": [
    {
     "name": "stdout",
     "output_type": "stream",
     "text": [
      "(11608, 15)\n",
      "(15917, 8)\n",
      "(2416, 7)\n"
     ]
    }
   ],
   "source": [
    "print(match_df.shape)\n",
    "print(unmatched_det_df.shape)\n",
    "print(unmatched_trk_df.shape)"
   ]
  },
  {
   "cell_type": "code",
   "execution_count": 7,
   "id": "e191716a",
   "metadata": {},
   "outputs": [
    {
     "data": {
      "image/png": "[encoded data removed]",
      "text/plain": [
       "<Figure size 432x288 with 1 Axes>"
      ]
     },
     "metadata": {},
     "output_type": "display_data"
    },
    {
     "name": "stdout",
     "output_type": "stream",
     "text": [
      "0.02434939557586046\n",
      "1.4392160083787156\n",
      "-0.027295775430214077\n",
      "1.320857552431175\n",
      "-0.0029345892153881466\n",
      "0.07043345574085993\n"
     ]
    }
   ],
   "source": [
    "delta_x = match_df['ann_px'] - match_df['det_px']\n",
    "delta_y = match_df['ann_py'] - match_df['det_py']\n",
    "delta_z = match_df['ann_pz'] - match_df['det_pz']\n",
    "\n",
    "plt.hist(delta_x.astype(np.float64),100)\n",
    "plt.hist(delta_y.astype(np.float64),100)\n",
    "plt.hist(delta_z.astype(np.float64),100)\n",
    "plt.show()\n",
    "\n",
    "print(np.mean(delta_x))\n",
    "print(np.var(delta_x))\n",
    "print(np.mean(delta_y))\n",
    "print(np.var(delta_y))\n",
    "print(np.mean(delta_z))\n",
    "print(np.var(delta_z))"
   ]
  },
  {
   "cell_type": "code",
   "execution_count": 8,
   "id": "58902656",
   "metadata": {},
   "outputs": [
    {
     "data": {
      "image/png": "[encoded data removed]",
      "text/plain": [
       "<Figure size 432x288 with 1 Axes>"
      ]
     },
     "metadata": {},
     "output_type": "display_data"
    }
   ],
   "source": [
    "delta_sx = match_df['ann_sx'] - match_df['det_sx']\n",
    "delta_sy = match_df['ann_sy'] - match_df['det_sy']\n",
    "delta_sz = match_df['ann_sz'] - match_df['det_sz']\n",
    "\n",
    "plt.hist(delta_sx.astype(np.float64),100)\n",
    "plt.hist(delta_sy.astype(np.float64),100)\n",
    "plt.hist(delta_sz.astype(np.float64),100)\n",
    "plt.show()"
   ]
  },
  {
   "cell_type": "code",
   "execution_count": 45,
   "id": "74d7217e",
   "metadata": {},
   "outputs": [
    {
     "data": {
      "image/png": "[encoded data removed]",
      "text/plain": [
       "<Figure size 432x288 with 1 Axes>"
      ]
     },
     "metadata": {},
     "output_type": "display_data"
    },
    {
     "name": "stdout",
     "output_type": "stream",
     "text": [
      "0.16515561904396148\n",
      "0.006610592494992953\n",
      "0.4369561585702315\n",
      "0.06404195386146624\n",
      "0.0066324876037182475\n",
      "0.047494622262219725\n",
      "Discrete Prior\n",
      " P( 0 ):\n",
      " Choice(0) \n",
      " 0 Leaf 0.12253541\n",
      " 1 Leaf 0.87746459\n",
      "\n",
      "\n"
     ]
    }
   ],
   "source": [
    "# plt.hist(delta_x,100)\n",
    "# plt.hist(delta_y,100)\n",
    "plt.hist(match_df['det_conf'].astype(np.float64))\n",
    "plt.hist(unmatched_det_df['det_conf'].astype(np.float64))\n",
    "plt.show()\n",
    "\n",
    "# mu_unmatch = np.mean(unmatched_det_df['det_conf'].astype(np.float64))\n",
    "# sigma_unmatch = np.var(unmatched_det_df['det_conf'].astype(np.float64))\n",
    "mu_match = np.mean(match_df['det_conf'].astype(np.float64))\n",
    "sigma_match = np.var(match_df['det_conf'].astype(np.float64))\n",
    "\n",
    "print(mu_unmatch)\n",
    "print(sigma_unmatch)\n",
    "print(mu_match)\n",
    "print(sigma_match)\n",
    "\n",
    "x = .2\n",
    "likelihood_match = np.exp(-(x - mu_match)**2/(2*sigma_match**2))/(np.sqrt(2*np.pi)*sigma_match)\n",
    "likelihood_unmatch = np.exp(-(x)**2/(2*sigma_match**2))/(np.sqrt(2*np.pi)*sigma_match)\n",
    "print(likelihood_match)\n",
    "print(likelihood_unmatch)\n",
    "\n",
    "p_track = gtsam.DiscreteDistribution([0,2], [likelihood_match, likelihood_unmatch])\n",
    "print(p_track)"
   ]
  },
  {
   "cell_type": "code",
   "execution_count": 10,
   "id": "ef613164",
   "metadata": {},
   "outputs": [
    {
     "name": "stdout",
     "output_type": "stream",
     "text": [
      "['false_det', 'bicycle', 'bus', 'car', 'motorcycle', 'pedestrian', 'trailer', 'truck', 'void_ignore']\n",
      "['missed_det', 'barrier', 'bicycle', 'bus', 'car', 'construction_vehicle', 'motorcycle', 'pedestrian', 'traffic_cone', 'trailer', 'truck']\n"
     ]
    }
   ],
   "source": [
    "# Form confusion matrix / class-det table\n",
    "det_classes = list(match_df['det_lbl'].unique())\n",
    "det_classes.sort()\n",
    "det_classes.insert(0,'missed_det')\n",
    "ann_classes = list(match_df['ann_lbl'].unique())\n",
    "ann_classes.sort()\n",
    "ann_classes.insert(0,'false_det')\n",
    "\n",
    "print(ann_classes)\n",
    "print(det_classes)"
   ]
  },
  {
   "cell_type": "code",
   "execution_count": 46,
   "id": "789d306c",
   "metadata": {},
   "outputs": [
    {
     "name": "stdout",
     "output_type": "stream",
     "text": [
      "             missed_det  barrier  bicycle    bus     car  \\\n",
      "false_det           0.0   1978.0   1348.0  618.0  3350.0   \n",
      "bicycle            17.0      9.0    112.0    1.0    12.0   \n",
      "bus               144.0      0.0      0.0  176.0     8.0   \n",
      "car              1215.0     36.0     15.0   24.0  3403.0   \n",
      "motorcycle         29.0      4.0     35.0    1.0     5.0   \n",
      "pedestrian        482.0     68.0     69.0    9.0    54.0   \n",
      "trailer             9.0      0.0      0.0    0.0     0.0   \n",
      "truck             104.0      6.0      0.0    5.0   103.0   \n",
      "void_ignore       416.0   1978.0     38.0    8.0    85.0   \n",
      "\n",
      "             construction_vehicle  motorcycle  pedestrian  traffic_cone  \\\n",
      "false_det                   979.0      1099.0      1856.0        1442.0   \n",
      "bicycle                       0.0         7.0        23.0           0.0   \n",
      "bus                           4.0         0.0         0.0           0.0   \n",
      "car                          27.0        45.0        20.0          13.0   \n",
      "motorcycle                    0.0       126.0        10.0           1.0   \n",
      "pedestrian                   14.0        27.0      2867.0          32.0   \n",
      "trailer                       0.0         0.0         0.0           0.0   \n",
      "truck                         6.0         0.0         4.0           0.0   \n",
      "void_ignore                 168.0        24.0        82.0        1110.0   \n",
      "\n",
      "             trailer   truck  \n",
      "false_det     1409.0  1838.0  \n",
      "bicycle          2.0     8.0  \n",
      "bus              6.0    31.0  \n",
      "car             14.0   239.0  \n",
      "motorcycle       1.0     0.0  \n",
      "pedestrian      14.0    21.0  \n",
      "trailer         50.0     1.0  \n",
      "truck            3.0   294.0  \n",
      "void_ignore     33.0    17.0  \n"
     ]
    }
   ],
   "source": [
    "conf_df = pd.DataFrame(np.zeros((len(ann_classes),len(det_classes))), columns = det_classes, index=ann_classes,dtype=np.float64)\n",
    "\n",
    "for index,row in match_df.iterrows():\n",
    "    conf_df[row['det_lbl']][row['ann_lbl']] +=1\n",
    "    \n",
    "# Treat unmatched dets as false det classs\n",
    "for index,row in unmatched_det_df.iterrows():\n",
    "    conf_df[row['det_lbl']]['false_det'] +=1\n",
    "\n",
    "# Treat unmatched tracks as missed dets\n",
    "for index,row in unmatched_trk_df.iterrows():\n",
    "    conf_df['missed_det'][row['ann_lbl']] +=1\n",
    "\n",
    "print(conf_df)"
   ]
  },
  {
   "cell_type": "code",
   "execution_count": 48,
   "id": "c3ebb5cc",
   "metadata": {},
   "outputs": [
    {
     "name": "stdout",
     "output_type": "stream",
     "text": [
      "             missed_det   barrier   bicycle       bus       car  \\\n",
      "false_det      0.000000  0.124270  0.084689  0.038826  0.210467   \n",
      "bicycle        0.089005  0.047120  0.586387  0.005236  0.062827   \n",
      "bus            0.390244  0.000000  0.000000  0.476965  0.021680   \n",
      "car            0.240546  0.007127  0.002970  0.004752  0.673728   \n",
      "motorcycle     0.136792  0.018868  0.165094  0.004717  0.023585   \n",
      "pedestrian     0.131802  0.018594  0.018868  0.002461  0.014766   \n",
      "trailer        0.150000  0.000000  0.000000  0.000000  0.000000   \n",
      "truck          0.198095  0.011429  0.000000  0.009524  0.196190   \n",
      "void_ignore    0.105077  0.499621  0.009598  0.002021  0.021470   \n",
      "\n",
      "             construction_vehicle  motorcycle  pedestrian  traffic_cone  \\\n",
      "false_det                0.061507    0.069046    0.116605      0.090595   \n",
      "bicycle                  0.000000    0.036649    0.120419      0.000000   \n",
      "bus                      0.010840    0.000000    0.000000      0.000000   \n",
      "car                      0.005345    0.008909    0.003960      0.002574   \n",
      "motorcycle               0.000000    0.594340    0.047170      0.004717   \n",
      "pedestrian               0.003828    0.007383    0.783976      0.008750   \n",
      "trailer                  0.000000    0.000000    0.000000      0.000000   \n",
      "truck                    0.011429    0.000000    0.007619      0.000000   \n",
      "void_ignore              0.042435    0.006062    0.020712      0.280374   \n",
      "\n",
      "              trailer     truck  \n",
      "false_det    0.088522  0.115474  \n",
      "bicycle      0.010471  0.041885  \n",
      "bus          0.016260  0.084011  \n",
      "car          0.002772  0.047317  \n",
      "motorcycle   0.004717  0.000000  \n",
      "pedestrian   0.003828  0.005742  \n",
      "trailer      0.833333  0.016667  \n",
      "truck        0.005714  0.560000  \n",
      "void_ignore  0.008335  0.004294  \n"
     ]
    }
   ],
   "source": [
    "conf_df = conf_df.div(conf_df.sum(axis=1),axis=0)\n",
    "print(conf_df)"
   ]
  },
  {
   "cell_type": "markdown",
   "id": "896e013d",
   "metadata": {},
   "source": [
    "# Now, test out using existence probability dist instead of false_det class"
   ]
  },
  {
   "cell_type": "code",
   "execution_count": 2,
   "id": "1d86358c",
   "metadata": {},
   "outputs": [
    {
     "ename": "NameError",
     "evalue": "name 'conf_df' is not defined",
     "output_type": "error",
     "traceback": [
      "\u001b[0;31m---------------------------------------------------------------------------\u001b[0m",
      "\u001b[0;31mNameError\u001b[0m                                 Traceback (most recent call last)",
      "\u001b[0;32m/tmp/ipykernel_47689/4006976189.py\u001b[0m in \u001b[0;36m<module>\u001b[0;34m\u001b[0m\n\u001b[0;32m----> 1\u001b[0;31m \u001b[0mprob_class_det\u001b[0m \u001b[0;34m=\u001b[0m \u001b[0mconf_df\u001b[0m\u001b[0;34m.\u001b[0m\u001b[0mdata\u001b[0m\u001b[0;34m\u001b[0m\u001b[0;34m\u001b[0m\u001b[0m\n\u001b[0m",
      "\u001b[0;31mNameError\u001b[0m: name 'conf_df' is not defined"
     ]
    }
   ],
   "source": [
    "prob_class_det = conf_df.data"
   ]
  },
  {
   "cell_type": "code",
   "execution_count": null,
   "id": "cb97cf4a",
   "metadata": {},
   "outputs": [],
   "source": []
  }
 ],
 "metadata": {
  "kernelspec": {
   "display_name": "Python 3 (ipykernel)",
   "language": "python",
   "name": "python3"
  },
  "language_info": {
   "codemirror_mode": {
    "name": "ipython",
    "version": 3
   },
   "file_extension": ".py",
   "mimetype": "text/x-python",
   "name": "python",
   "nbconvert_exporter": "python",
   "pygments_lexer": "ipython3",
   "version": "3.9.18"
  }
 },
 "nbformat": 4,
 "nbformat_minor": 5
}
